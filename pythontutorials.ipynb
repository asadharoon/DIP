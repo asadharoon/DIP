{
 "cells": [
  {
   "cell_type": "markdown",
   "metadata": {},
   "source": [
    "<center><h2>Python Assignment #1,2</h2></center>"
   ]
  },
  {
   "cell_type": "markdown",
   "metadata": {},
   "source": [
    "\n",
    "<table style=\"border-collapse: collapse;text-align:center;width: 100%;\">\n",
    "    <caption style=\"text-align:center;\"><b>Python Tutorials For Data Science and ML</b></caption>\n",
    "    <tr>\n",
    "        <td style=\"border: 1px solid black;\"><p style=\"text-align:center;\"><b>Python</b></p><img src=\"https://blog.insaid.co/wp-content/uploads/2019/04/Python-logo.jpg\" alt=\"Python Pic will load with Internet\" style=\"width:200px;\"></td>\n",
    "        <td style=\"border: 1px solid black;\"><p style=\"text-align:center;\"><b>Pandas</b></p><img src=\"https://pandas.pydata.org/_static/pandas_logo.png\" style=\"width:200px;\" alt=\"ML Pic will load with Internet\"></td>\n",
    "        <td style=\"border: 1px solid black;top:10%;\"><p style=\"text-align:center;\"><b>ML</b></p><img src=\"https://www.raybiztech.com/RBT/media/RBT-Images/machine_learning-logo.png\" alt=\"DS Pic will load with Internet\" style=\"width:200px;\"></td>\n",
    "    </tr>\n",
    "    </table>\n",
    "\n"
   ]
  },
  {
   "cell_type": "markdown",
   "metadata": {},
   "source": [
    " \n",
    "<p style=\"text-align:center\">\n",
    "    <h2 style=\"text-align:center\">Made By:</h2>\n",
    "    <b>Name:</b> Asad Haroon<br>\n",
    "    <b>Reg#:</b> SP17-BCS-012<br>\n",
    "    <b>Section:</b> C<br>\n",
    "    <b>Submitted to:</b> Dr. Rao M.Adeel Nawab<br>\n",
    "</p>"
   ]
  },
  {
   "cell_type": "markdown",
   "metadata": {},
   "source": [
    "# Contents:\n",
    "1. Introduction\n",
    "        1.1. Features\n",
    "        1.2. Applications\n",
    "2. Python Basics\n",
    "       2.1. Data Types and Diff between Mutable and Immutable Objects\n",
    "            2.1.1. Numbers\n",
    "            2.1.2. Strings\n",
    "            2.1.3. Dictionary\n",
    "            2.1.4. Lists\n",
    "            2.1.5. Sets\n",
    "            2.1.6. Tuples\n",
    "        2.2. if/else statements\n",
    "        2.3. Loops\n",
    "            2.3.1. For Loop\n",
    "            2.3.2. While Loop\n",
    "        2.4. Type Casting\n",
    "        2.5. Functions\n",
    "            2.5.1. User Defined Functions\n",
    "            2.5.2. Lambda Functions\n",
    "        2.6. File Handling\n",
    "        2.7. Object Oriented Programming\n",
    "            2.7.1. Classes\n",
    "            2.7.2. Constructors\n",
    "            2.7.3. Functions\n",
    "3. Python Libraries\n",
    "        3.1. Numpy\n",
    "        3.2. Pandas\n",
    "        3.3. Matplotlib"
   ]
  },
  {
   "cell_type": "markdown",
   "metadata": {},
   "source": [
    "# 1.Introduction\n",
    "Python has become most popular language now-a-days. And ranked 2nd best and widely used programming languages for <b>Data Analysis and Statistical Operations.</b>\n",
    "It was created by <b>Guido van Rossum.</b>"
   ]
  },
  {
   "cell_type": "markdown",
   "metadata": {},
   "source": [
    "# 1.2. Features\n",
    "       •\tIts open source and free to use.\n",
    "       •\tSyntax is very easy as compared to other programming languages.\n",
    "       •\tVery easy to learn it.\n",
    "       •\tYou can code in it in just few lines as compared to other languages which requires a large amount of code.\n",
    "       •\tMany built in functions and libraries for complex calculations.\n",
    "\n",
    "\n"
   ]
  },
  {
   "cell_type": "markdown",
   "metadata": {},
   "source": [
    "# 1.3. Applications\n",
    "   •\tPython is used for <b>Data Analysis, Data Mining, Artificial Intelligence and in Machine Learning</b>.\n",
    "  \n",
    "   •\tAs Data is increasing day by day, python is used for <b>Big Data Analytics</b>, so predict some patterns.\n",
    "  \n",
    "   •\tLibraries and their uses:<br>\n",
    "                    <ol type=\"i\"><li> <b>Pandas:</b> Used for Data Manipulation and Analysis.<br><b>Documentation: https://pandas.pydata.org/pandas-docs/stable/pandas.pdf</b></li>\n",
    "                   <li><b>Matplotlib:</b> Used for making Graphs from Data.<br><b>Documentation: https://matplotlib.org/users/index.html</b></li>\n",
    "             <li><b>Numpy:</b> Contains Linear Algebra functions and used to perform mathematical operations on Data.<br><b>Documentation: https://docs.scipy.org/doc/numpy/numpy-ref-1.17.0.pdf</b></li>\n",
    "                   <li><b>Scikit-Learn:</b> Contains tools for Machine Learning and Statistical Modeling.<br><b>Documentation: https://scikit-learn.org/stable/_downloads/scikit-learn-docs.pdf</b></li>\n",
    "    </ol>"
   ]
  },
  {
   "cell_type": "markdown",
   "metadata": {},
   "source": [
    "# 2. Python Basics\n",
    "Print Statement Methods:\n",
    "<ul><li>By Using <b>.format(items)</b></li>\n",
    "    <li>By using <b>format specifiers.</b></li>\n",
    "    <li>By simply using print statement.</li></ul>\n",
    "Note: Print Statement works only on string objects, if we want to print integer,float,and bool type values then we have to convert it first to string type."
   ]
  },
  {
   "cell_type": "code",
   "execution_count": 1,
   "metadata": {},
   "outputs": [
    {
     "name": "stdout",
     "output_type": "stream",
     "text": [
      "a is 12 and b is [1, 2, 3] and c is Asad\n",
      "a is 12 and b is [1, 2, 3] and c is Asad\n",
      "12 [1, 2, 3] Asad\n"
     ]
    }
   ],
   "source": [
    "#By using .format(items):\n",
    "a=12\n",
    "b=[1,2,3]\n",
    "c=\"Asad\"\n",
    "print(\"a is {} and b is {} and c is {}\".format(a,b,c))\n",
    "\n",
    "#By using format specifiers.\n",
    "print(\"a is %d and b is %s and c is %s\"%(a,b,c))\n",
    "\n",
    "#By using print statement.\n",
    "print(a,b,c)"
   ]
  },
  {
   "cell_type": "markdown",
   "metadata": {},
   "source": [
    "   # 2.1. Difference b/w Mutable and Immutable Objects\n",
    "   <p> Mutable Objects can change their states or contents whereas immutable objects cannot change their states or contents.\n",
    "       e.g, List,Sets and Dictionaries are mutable Objects. and integer,float,string are immutable Objects.</p>\n",
    "   "
   ]
  },
  {
   "cell_type": "markdown",
   "metadata": {},
   "source": [
    "   # Data Types\n",
    "   <h2> 1.Variables</h2>\n",
    "   <p>In Python, we dont to write data type with the variable name, because it automatically detects the type of the variable from their value.</p>\n",
    "   "
   ]
  },
  {
   "cell_type": "code",
   "execution_count": 2,
   "metadata": {},
   "outputs": [
    {
     "name": "stdout",
     "output_type": "stream",
     "text": [
      "<class 'int'>\n",
      "<class 'float'>\n",
      "<class 'str'>\n",
      "<class 'str'>\n"
     ]
    }
   ],
   "source": [
    "number=12 # integer value.\n",
    "numfloat=4.0\n",
    "string=\"Asad Haroon\"\n",
    "ch='A' # There is no specific character type in Python as compared to C, Java. So it considers it as string of length 1.\n",
    "\n",
    "# To find the data type of the variable we use type() function.\n",
    "print(type(number))\n",
    "print(type(numfloat))\n",
    "print(type(string))\n",
    "print(type(ch))"
   ]
  },
  {
   "cell_type": "markdown",
   "metadata": {},
   "source": [
    "# 2. Strings\n",
    "<ul><li>Strings are used when we have to deal with <b>characters or words</b> which we cant store in numbers format.e.g, used to store name of student and their registeration number.</li><li>Strings are used instead of integers,float or any other data structure because, data containing alphabets cannot store in any other data structure.</li></ul>\n"
   ]
  },
  {
   "cell_type": "code",
   "execution_count": 3,
   "metadata": {},
   "outputs": [
    {
     "name": "stdout",
     "output_type": "stream",
     "text": [
      "Hello I am Asad Haroon\n",
      "22\n"
     ]
    }
   ],
   "source": [
    "#Example 1.\n",
    "st1=\"Hello I am Asad Haroon\"\n",
    "print(st1)\n",
    "#Example 2.\n",
    "st2='I love Python Language'\n",
    "print(len(st2)) # String length is calculated with len() function."
   ]
  },
  {
   "cell_type": "markdown",
   "metadata": {},
   "source": [
    "# Slicing of String\n",
    "<p>For Slicing of string, we use variable<b>[initial_limit : final_limit : iterator]</b>, where initial_limit is starting index and final_index is ending index(exclusive). if final_index is not mentioned then, it automatically operates till full length of string.\n",
    "And iterator is number of iterator i.e, steps.</p>"
   ]
  },
  {
   "cell_type": "code",
   "execution_count": 4,
   "metadata": {},
   "outputs": [
    {
     "name": "stdout",
     "output_type": "stream",
     "text": [
      "Asad \n",
      "Asad H\n",
      "Haroon\n"
     ]
    }
   ],
   "source": [
    "st2=\"Asad Haroon\"\n",
    "#Example 1.\n",
    "print(st2[0:5]) # it will pick from 0 to 4 index\n",
    "#Example 2.\n",
    "print(st2[:6]) # it will pick from 0 index automatically and pick till 5th index.\n",
    "#Example 3.\n",
    "print(st2[-6:]) # it will pick 6th from (right to left) of string. and print till last of string. "
   ]
  },
  {
   "cell_type": "markdown",
   "metadata": {},
   "source": [
    "# Updating String\n",
    "<p> We can update string by concatenating with '+' operator. </p>"
   ]
  },
  {
   "cell_type": "code",
   "execution_count": 5,
   "metadata": {},
   "outputs": [
    {
     "name": "stdout",
     "output_type": "stream",
     "text": [
      "Updated string1 is Hello My name is Asad Haroon\n",
      "Updated string2 is Now Zain is my friend\n",
      "Updated string3 is He is Boy\n"
     ]
    }
   ],
   "source": [
    "#Example 1.\n",
    "stt1=\"Hello My \"\n",
    "stt1=stt1+\"name is Asad Haroon\"\n",
    "print(\"Updated string1 is \"+stt1)\n",
    "# Example 2.\n",
    "stt2=\"Ali is my friend\"\n",
    "stt2='Now Zain'+stt2[3:] # it will pick Ali and update new string.\n",
    "print(\"Updated string2 is \"+stt2)\n",
    "#Example 3.\n",
    "str3=\"He is girl\"\n",
    "print(\"Updated string3 is \"+str3[:-4]+\"Boy\") # now in that case our final limit is till -4th index \n",
    "#(means 4th index from right which means from 0th index to 6th index) and update with new string."
   ]
  },
  {
   "cell_type": "markdown",
   "metadata": {},
   "source": [
    "# String Functions\n",
    "String Data Structure have many built in functions. Some of functions are given below."
   ]
  },
  {
   "cell_type": "code",
   "execution_count": 6,
   "metadata": {},
   "outputs": [
    {
     "name": "stdout",
     "output_type": "stream",
     "text": [
      "Capitialize String is Asad\n",
      "Position of s is 1\n",
      "Position of a is 0\n",
      "Ends with function returns True\n",
      "Replaced string is These are my books\n"
     ]
    }
   ],
   "source": [
    "#Function.1: Capitialize func\n",
    "st1=\"asad\"\n",
    "print(\"Capitialize String is \"+st1.capitalize()) # it will capitalize the first letter of the string.\n",
    "# Function 2: Index func\n",
    "st2=\"asad\"\n",
    "print(\"Position of s is \"+str(st2.index('s'))) # it will return the position/index of character.\n",
    "print(\"Position of a is \"+str(st2.index('a'))) # in case of duplication of character \n",
    "#it will return first character position only.\n",
    "\n",
    "# Function 3: Ends With\n",
    "st1=\"Hello Python\"\n",
    "print(\"Ends with function returns \"+str(st1.endswith('Python'))) # it will tell if string endswith specific string \n",
    "#it will return true else false.\n",
    "\n",
    "#Function 4: Replace func\n",
    "st4=\"These is my books\"\n",
    "print(\"Replaced string is \"+st4.replace('is','are')) # first we write replacing item(want to replace) \n",
    "#and then we write replaced item(new item)\n"
   ]
  },
  {
   "cell_type": "markdown",
   "metadata": {},
   "source": [
    "# Delete String\n",
    "To delete string value we use del function.\n",
    "It also deletes reference of object."
   ]
  },
  {
   "cell_type": "code",
   "execution_count": 7,
   "metadata": {},
   "outputs": [
    {
     "name": "stdout",
     "output_type": "stream",
     "text": [
      "Asad\n"
     ]
    }
   ],
   "source": [
    "str1=\"Asad\"\n",
    "print(str1)\n",
    "del str1\n",
    "# after deleting string, str1 is not available now."
   ]
  },
  {
   "cell_type": "markdown",
   "metadata": {},
   "source": [
    "# String Special Operators\n"
   ]
  },
  {
   "cell_type": "code",
   "execution_count": 8,
   "metadata": {},
   "outputs": [
    {
     "name": "stdout",
     "output_type": "stream",
     "text": [
      "Example 1\n",
      "\n",
      "Hello Asad\n",
      "Hello Asad\n",
      "Hello Asad\n",
      "\n",
      "Example 2\n",
      "\n",
      "*\n",
      "**\n",
      "***\n",
      "****\n"
     ]
    }
   ],
   "source": [
    "# '*' operator is used for repitition of string.\n",
    "#Example 1.\n",
    "print(\"Example 1\\n\")\n",
    "st12=\"Hello Asad\"\n",
    "print((st12+\"\\n\")*3)\n",
    "\n",
    "print(\"Example 2\")\n",
    "#Example 2. Using Loops to print pattern\n",
    "str11=\"*\"\n",
    "for i in range(5):\n",
    "    print(str11*i)"
   ]
  },
  {
   "cell_type": "code",
   "execution_count": 9,
   "metadata": {},
   "outputs": [
    {
     "name": "stdout",
     "output_type": "stream",
     "text": [
      "Space in a returns True\n"
     ]
    }
   ],
   "source": [
    "# 'in' operator if given character/string is in original string.\n",
    "# in operator is used when we have to find some pattern in the string.\n",
    "#Example 1.\n",
    "a=\"abc def\"\n",
    "print(\"Space in a returns \"+str(' ' in a))\n"
   ]
  },
  {
   "cell_type": "code",
   "execution_count": 10,
   "metadata": {},
   "outputs": [
    {
     "name": "stdout",
     "output_type": "stream",
     "text": [
      "z in b returns True\n"
     ]
    }
   ],
   "source": [
    "# 'not in operator' if given character/string not in original string.\n",
    "# not in operator is used when we have to find some pattern in the string.\n",
    "# Example\n",
    "b=\"abcdef\"\n",
    "print(\"z in b returns \"+str('z' not in b))"
   ]
  },
  {
   "cell_type": "markdown",
   "metadata": {},
   "source": [
    "# 3. Lists\n",
    "<p><b>Lists Data Structure</b> is used when we have to make list of items/products/numbers/strings.<br>\n",
    "Lists contains data on which we perform some algorithm to get some type of data/pattern.</p>\n",
    "Rules:\n",
    "<ul>\n",
    "    <li>In <b>positive slicing</b> i.e,from left,Index starts from 0.</li>\n",
    "    <li>In <b>negative slicing</b>,i.e, from right, index starts from -1.</li>\n",
    "    <li>List can have values of multiple data types.i.e, One list can contains numbers, strings as well.</li>\n",
    "    <li>Items are comma-seperated values in list.</li>\n",
    "</ul>\n",
    "  <pre><b>Structure of List:</b><br><img src=\"https://cdn.programiz.com/sites/tutorial2program/files/python-list-index.png\" style=\"width:30%;\"></pre>\n"
   ]
  },
  {
   "cell_type": "code",
   "execution_count": 11,
   "metadata": {},
   "outputs": [
    {
     "name": "stdout",
     "output_type": "stream",
     "text": [
      "Contents of list1: ['asad', 6, 3.51]\n",
      "type(list1[0]): <class 'str'>\n",
      "list1[-1]: 3.51\n",
      "list1[::2]: ['asad', 3.51]\n"
     ]
    }
   ],
   "source": [
    "#Initalization\n",
    "list1=['asad',6,3.51] # Name,Semester,CGPA.\n",
    "print(\"Contents of list1: {}\".format(list1))\n",
    "\n",
    "#Access List Items\n",
    "\n",
    "#Example 1\n",
    "print(\"type(list1[0]): {}\".format(type(list1[0])))\n",
    "#Example 2\n",
    "print(\"list1[-1]: {}\".format(list1[-1]))\n",
    "#Example 3.\n",
    "print(\"list1[::2]: {}\".format(list1[::2]))"
   ]
  },
  {
   "cell_type": "markdown",
   "metadata": {},
   "source": [
    "# Updating Lists\n",
    "<ul><li>We can update lists by simply assigning some index of list to updated value.</li>\n",
    "    <li> We can update lists by append() function, which will update list and write new content at end.\n",
    "</ul>"
   ]
  },
  {
   "cell_type": "code",
   "execution_count": 12,
   "metadata": {},
   "outputs": [
    {
     "name": "stdout",
     "output_type": "stream",
     "text": [
      "After Updating list1: ['asad', 6, 3.7]\n",
      "list1: ['asad', 6, 3.7, ['ML', 'DS']]\n"
     ]
    }
   ],
   "source": [
    "list1=['asad',6,3.51]\n",
    "#Example 1.\n",
    "list1[2]=3.7\n",
    "print('After Updating list1: {}'.format(list1))\n",
    "\n",
    "#Example 2.\n",
    "subj=['ML','DS']\n",
    "list1.append(subj) # appending subjects list at end.\n",
    "print(\"list1: {}\".format(list1))\n"
   ]
  },
  {
   "cell_type": "markdown",
   "metadata": {},
   "source": [
    "# Delete List Elements\n",
    "We can delete list elements by del statement and remove() function.\n",
    "<ul><li><b>del</b> statement is used to remove the specific index from the list when index is known. </li>\n",
    "    <li><b>remove()</b> function is used to remove the specific object/value from list when index is unknown.</li></ul> &nbsp;"
   ]
  },
  {
   "cell_type": "code",
   "execution_count": 13,
   "metadata": {},
   "outputs": [
    {
     "name": "stdout",
     "output_type": "stream",
     "text": [
      "Contents of list1: ['asad', 6, 3.51, ['ML', 'DS']]\n",
      "After del list1[2]: ['asad', 6, ['ML', 'DS']]\n",
      "list1[2].remove('ML'): ['asad', 6, ['DS']]\n"
     ]
    },
    {
     "ename": "NameError",
     "evalue": "name 'list1' is not defined",
     "output_type": "error",
     "traceback": [
      "\u001b[1;31m---------------------------------------------------------------------------\u001b[0m",
      "\u001b[1;31mNameError\u001b[0m                                 Traceback (most recent call last)",
      "\u001b[1;32m<ipython-input-13-40f0de88bcbe>\u001b[0m in \u001b[0;36m<module>\u001b[1;34m\u001b[0m\n\u001b[0;32m     14\u001b[0m \u001b[1;31m#Example 3. By del\u001b[0m\u001b[1;33m\u001b[0m\u001b[1;33m\u001b[0m\u001b[1;33m\u001b[0m\u001b[0m\n\u001b[0;32m     15\u001b[0m \u001b[1;32mdel\u001b[0m \u001b[0mlist1\u001b[0m \u001b[1;31m# in that case it will delete list1 reference also.\u001b[0m\u001b[1;33m\u001b[0m\u001b[1;33m\u001b[0m\u001b[0m\n\u001b[1;32m---> 16\u001b[1;33m \u001b[0mprint\u001b[0m\u001b[1;33m(\u001b[0m\u001b[0mlist1\u001b[0m\u001b[1;33m)\u001b[0m\u001b[1;33m\u001b[0m\u001b[1;33m\u001b[0m\u001b[0m\n\u001b[0m",
      "\u001b[1;31mNameError\u001b[0m: name 'list1' is not defined"
     ]
    }
   ],
   "source": [
    "#Delete List Elements\n",
    "list1=['asad',6,3.51,['ML','DS']]\n",
    "print(\"Contents of list1: {}\".format(list1))\n",
    "\n",
    "#Example 1. By del\n",
    "del list1[2]\n",
    "print(\"After del list1[2]: {}\".format(list1))\n",
    "\n",
    "#Example 2. By remove\n",
    "\n",
    "list1[2].remove('ML')\n",
    "print(\"list1[2].remove('ML'): {}\".format(list1))\n",
    "\n",
    "#Example 3. By del\n",
    "del list1 # in that case it will delete list1 reference also.\n",
    "print(list1)"
   ]
  },
  {
   "cell_type": "markdown",
   "metadata": {},
   "source": [
    "# List Functions\n",
    "There are many built-in functions of lists.\n",
    "<ul><li><b>Sort() function:</b> It will sort list in ascending order.</li>\n",
    "    <li><b>Reverse() function:</b> It will reverse array elements.</li>\n",
    "    <li><b>Pop() function:</b> It will remove and return last inserted element.</li>\n",
    "    <li><b>Clear() function:</b> It will clear all elements of array. i.e, delete all elements in array.</li></ul>\n",
    "    "
   ]
  },
  {
   "cell_type": "code",
   "execution_count": 100,
   "metadata": {},
   "outputs": [
    {
     "name": "stdout",
     "output_type": "stream",
     "text": [
      "Original List: [10, 9, 8, 7, 4.3, 3.9, 3.2, 3.8, 4.5, 5, 1]\n",
      "Sorted list: [1, 3.2, 3.8, 3.9, 4.3, 4.5, 5, 7, 8, 9, 10]\n",
      "Reversed Sorted List: [10, 9, 8, 7, 5, 4.5, 4.3, 3.9, 3.8, 3.2, 1]\n",
      "Pop() from list returns: 1\n",
      "Now list contents are: [10, 9, 8, 7, 5, 4.5, 4.3, 3.9, 3.8, 3.2]\n"
     ]
    }
   ],
   "source": [
    "# Sort fun():\n",
    "li=[10,9,8,7,4.3,3.9,3.2,3.8,4.5,5,1]\n",
    "print(\"Original List: {}\".format(li))\n",
    "li.sort()\n",
    "print(\"Sorted list: {}\".format(li))\n",
    "# Reverse fun():\n",
    "li.reverse()\n",
    "print(\"Reversed Sorted List: {}\".format(li))\n",
    "# Pop() fun:\n",
    "element=li.pop()\n",
    "print(\"Pop() from list returns: {}\".format(element))\n",
    "print(\"Now list contents are: {}\".format(li))"
   ]
  },
  {
   "cell_type": "code",
   "execution_count": 101,
   "metadata": {},
   "outputs": [
    {
     "name": "stdout",
     "output_type": "stream",
     "text": [
      "Clear li: []\n",
      "After deleting List Li1, and li2 elements are: [10, 9, 8, 7, 4.3, 3.9, 3.2, 3.8, 4.5, 5, 1]\n"
     ]
    }
   ],
   "source": [
    "#List clear fun:\n",
    "li=[10,9,8,7,4.3,3.9,3.2,3.8,4.5,5,1]\n",
    "li.clear()\n",
    "print(\"Clear li: {}\".format(li))\n",
    "\n",
    "#list Copy fun:\n",
    "li1=[10,9,8,7,4.3,3.9,3.2,3.8,4.5,5,1]\n",
    "li2=li1.copy() # it will copy all array in another list li2.\n",
    "del li1 # it will delete li1 list only.\n",
    "print(\"After deleting List Li1, and li2 elements are: {}\".format(li2))"
   ]
  },
  {
   "cell_type": "markdown",
   "metadata": {},
   "source": [
    "# 4. Dictionary\n",
    "\n",
    "<ul><li>Dictionary belongs to <b>mutable</b> data type.</li><li>Each key has a value seperated by a colon(:).</li>\n",
    "    <li><b>Keys are unique</b> in dictionary, but value may be same or different.</li><li>Keys must be of immutable data type(strings,numbers,tuples) which we can change values in future.</li><li> A dictionary is used to map or associate things you want to store the keys you need to get them like real world Dictionary.</li>\n",
    "</ul>"
   ]
  },
  {
   "cell_type": "markdown",
   "metadata": {},
   "source": [
    "# Accessing Dictionary\n"
   ]
  },
  {
   "cell_type": "code",
   "execution_count": 102,
   "metadata": {},
   "outputs": [
    {
     "name": "stdout",
     "output_type": "stream",
     "text": [
      "My Dictionary: {'Name': 'Asad Haroon', 'Age': 21, 'Semester': 6, 'Subjects': ['DS', 'ML', 'CCN']}\n",
      "My name is Asad Haroon and my age is 21\n",
      "My first subject is DS\n"
     ]
    }
   ],
   "source": [
    "mydict={'Name':'Asad Haroon','Age':21,'Semester':6,'Subjects':['DS','ML','CCN']}\n",
    "#Example 1.\n",
    "print(\"My Dictionary: {}\".format(mydict))\n",
    "print(\"My name is {} and my age is {}\".format(mydict['Name'],mydict['Age']))\n",
    "\n",
    "#Example 2.\n",
    "print(\"My first subject is {}\".format(mydict['Subjects'][0]))\n",
    "\n"
   ]
  },
  {
   "cell_type": "markdown",
   "metadata": {},
   "source": [
    "# Dictionary Functions\n",
    "<ul><li><b>dict.keys():</b> It will return all keys of dictionary.</li>\n",
    "    <li><b>dict.items():</b> It will return all dictionary items, i.e, key and value.</li>\n",
    "    <li><b>dict.get():</b>It will return that key value.</li></ul>"
   ]
  },
  {
   "cell_type": "code",
   "execution_count": 103,
   "metadata": {},
   "outputs": [
    {
     "name": "stdout",
     "output_type": "stream",
     "text": [
      "\n",
      "Keys of mydict are listed below:\n",
      "0.Key: Name\n",
      "1.Key: Age\n",
      "2.Key: Semester\n",
      "3.Key: Subjects\n",
      "Key is Name and Value is Asad Haroon\n",
      "Key is Age and Value is 21\n",
      "Key is Semester and Value is 6\n",
      "Key is Subjects and Value is ['DS', 'ML', 'CCN']\n",
      "My Semester is 6\n"
     ]
    }
   ],
   "source": [
    "mydict={'Name':'Asad Haroon','Age':21,'Semester':6,'Subjects':['DS','ML','CCN']}\n",
    "#Example 3.\n",
    "# To print Keys only.\n",
    "print(\"\\nKeys of mydict are listed below:\")\n",
    "i=0\n",
    "for item in mydict.keys():\n",
    "    print(\"{}.Key: {}\".format(i,item))\n",
    "    i=i+1\n",
    "#Example 4\n",
    "for key,val in mydict.items():\n",
    "    print(\"Key is {} and Value is {}\".format(key,val))\n",
    "# Example 5.\n",
    "print(\"My Semester is {}\".format(mydict.get('Semester')))"
   ]
  },
  {
   "cell_type": "markdown",
   "metadata": {},
   "source": [
    "# Updating Dictionary\n",
    "<h4>1st Method:</h4>We can update dictionary by simply assigning that key to new value.\n",
    "<h4>2nd Method:</h4> We can update dictionary by dict.update() function. Syntax: dict.update({'key':'value'})\n"
   ]
  },
  {
   "cell_type": "code",
   "execution_count": 104,
   "metadata": {},
   "outputs": [
    {
     "name": "stdout",
     "output_type": "stream",
     "text": [
      "After updating in 1st Method: {'Name': 'Asad1234', 'Age': 21, 'Semester': 6, 'Subjects': ['DS', 'ML', 'CCN']}\n",
      "After updating with update() function: {'Name': 'Asad1234', 'Age': 21, 'Semester': 7, 'Subjects': ['DS', 'ML', 'CCN']}\n",
      "Adding CGPA in mydict: {'Name': 'Asad1234', 'Age': 21, 'Semester': 7, 'Subjects': ['DS', 'ML', 'CCN'], 'CGPA': 3.51}\n"
     ]
    }
   ],
   "source": [
    "mydict={'Name':'Asad Haroon','Age':21,'Semester':6,'Subjects':['DS','ML','CCN']}\n",
    "#1st Method:\n",
    "mydict['Name']='Asad1234'\n",
    "print(\"After updating in 1st Method: {}\".format(mydict))\n",
    "#2nd Method:\n",
    "mydict.update({'Semester':7})\n",
    "print(\"After updating with update() function: {}\".format(mydict))\n",
    "\n",
    "#If that key does not exists in dictionary then it will add that new key with value.\n",
    "mydict['CGPA']=3.51\n",
    "print(\"Adding CGPA in mydict: {}\".format(mydict))"
   ]
  },
  {
   "cell_type": "markdown",
   "metadata": {},
   "source": [
    "# Delete Dictionary Elements\n",
    "We can delete dictionary elements by del statement and clear() function.\n",
    "<ul><li><b>del:</b> Used to delete specific key from dictionary.</li>\n",
    "    <li><b>clear():</b> Used to clear all keys,values from dictionary.</li></ul>\n",
    "    "
   ]
  },
  {
   "cell_type": "code",
   "execution_count": 105,
   "metadata": {},
   "outputs": [
    {
     "name": "stdout",
     "output_type": "stream",
     "text": [
      "Original Dictionary: {'Name': 'Asad Haroon', 'Age': 21, 'Semester': 6, 'Subjects': ['DS', 'ML', 'CCN']}\n",
      "del mydict['CGPA']: {'Name': 'Asad Haroon', 'Age': 21, 'Semester': 6, 'Subjects': ['DS', 'ML', 'CCN']}\n",
      "By clear() function: {}\n"
     ]
    }
   ],
   "source": [
    "mydict={'Name':'Asad Haroon','Age':21,'Semester':6,'Subjects':['DS','ML','CCN'],'CGPA':3.7}\n",
    "#By del:\n",
    "del mydict['CGPA']\n",
    "print(\"Original Dictionary: {}\".format(mydict))\n",
    "print(\"del mydict['CGPA']: {}\".format(mydict))\n",
    "\n",
    "# By clear():\n",
    "mydict.clear()\n",
    "print(\"By clear() function: {}\".format(mydict))"
   ]
  },
  {
   "cell_type": "markdown",
   "metadata": {},
   "source": [
    "# 5.Tuples\n",
    "<ul><li>Tuples is sequence of <b>immutable</b> objects, which we cant change.</li>\n",
    "    <li>Tuple is created by placing comma-separated values between parenthesis().</li><li>It can also have different data types.</li><li>Example of Tuples,we use tuples in managing states NFA,DFA.</li><li>Tuples are <b>faster than Lists</b>. And Tuples have structure and lists have order. Thats why, we use tuples.</li></ul>"
   ]
  },
  {
   "cell_type": "code",
   "execution_count": 106,
   "metadata": {},
   "outputs": [
    {
     "name": "stdout",
     "output_type": "stream",
     "text": [
      "('ML', 'CCN')\n"
     ]
    }
   ],
   "source": [
    "tuples=('Asad',6,3.51,('ML','DS','CCN','Stats')) #Name,Sem,CGPA,(subjects)\n",
    "# THis is tuple for all students its compulsory to have subjects studied before 6th semester and its constant.\n",
    "print(tuples[-1][::2])"
   ]
  },
  {
   "cell_type": "markdown",
   "metadata": {},
   "source": [
    "# Updating Tuples"
   ]
  },
  {
   "cell_type": "code",
   "execution_count": 107,
   "metadata": {},
   "outputs": [
    {
     "ename": "TypeError",
     "evalue": "'tuple' object does not support item assignment",
     "output_type": "error",
     "traceback": [
      "\u001b[1;31m---------------------------------------------------------------------------\u001b[0m",
      "\u001b[1;31mTypeError\u001b[0m                                 Traceback (most recent call last)",
      "\u001b[1;32m<ipython-input-107-4501f0823c70>\u001b[0m in \u001b[0;36m<module>\u001b[1;34m\u001b[0m\n\u001b[0;32m      1\u001b[0m \u001b[0mtuples\u001b[0m\u001b[1;33m=\u001b[0m\u001b[1;33m(\u001b[0m\u001b[1;34m'Asad'\u001b[0m\u001b[1;33m,\u001b[0m\u001b[1;36m6\u001b[0m\u001b[1;33m,\u001b[0m\u001b[1;36m3.51\u001b[0m\u001b[1;33m,\u001b[0m\u001b[1;33m(\u001b[0m\u001b[1;34m'ML'\u001b[0m\u001b[1;33m,\u001b[0m\u001b[1;34m'DS'\u001b[0m\u001b[1;33m,\u001b[0m\u001b[1;34m'CCN'\u001b[0m\u001b[1;33m,\u001b[0m\u001b[1;34m'Stats'\u001b[0m\u001b[1;33m)\u001b[0m\u001b[1;33m)\u001b[0m \u001b[1;31m#Name,Sem,CGPA,(subjects)\u001b[0m\u001b[1;33m\u001b[0m\u001b[1;33m\u001b[0m\u001b[0m\n\u001b[0;32m      2\u001b[0m \u001b[1;31m# If we want to change some subjects, we cant update it.\u001b[0m\u001b[1;33m\u001b[0m\u001b[1;33m\u001b[0m\u001b[1;33m\u001b[0m\u001b[0m\n\u001b[1;32m----> 3\u001b[1;33m \u001b[0mtuples\u001b[0m\u001b[1;33m[\u001b[0m\u001b[1;33m-\u001b[0m\u001b[1;36m1\u001b[0m\u001b[1;33m]\u001b[0m\u001b[1;33m[\u001b[0m\u001b[1;36m0\u001b[0m\u001b[1;33m]\u001b[0m\u001b[1;33m=\u001b[0m\u001b[1;34m'SEC'\u001b[0m\u001b[1;33m\u001b[0m\u001b[1;33m\u001b[0m\u001b[0m\n\u001b[0m\u001b[0;32m      4\u001b[0m \u001b[0mprint\u001b[0m\u001b[1;33m(\u001b[0m\u001b[0mtuples\u001b[0m\u001b[1;33m[\u001b[0m\u001b[1;33m-\u001b[0m\u001b[1;36m1\u001b[0m\u001b[1;33m]\u001b[0m\u001b[1;33m)\u001b[0m\u001b[1;33m\u001b[0m\u001b[1;33m\u001b[0m\u001b[0m\n",
      "\u001b[1;31mTypeError\u001b[0m: 'tuple' object does not support item assignment"
     ]
    }
   ],
   "source": [
    "tuples=('Asad',6,3.51,('ML','DS','CCN','Stats')) #Name,Sem,CGPA,(subjects)\n",
    "# If we want to change some subjects, we cant update it.\n",
    "tuples[-1][0]='SEC'\n",
    "print(tuples[-1])"
   ]
  },
  {
   "cell_type": "markdown",
   "metadata": {},
   "source": [
    "# Concat of Tuples\n",
    "We cant update tuple, but we can concat two tuples."
   ]
  },
  {
   "cell_type": "code",
   "execution_count": 173,
   "metadata": {},
   "outputs": [
    {
     "name": "stdout",
     "output_type": "stream",
     "text": [
      "('Asad', 6, 3.7, 'ML', 'DS')\n"
     ]
    }
   ],
   "source": [
    "# Example\n",
    "tuple1=('Asad',6,3.7)\n",
    "tuple2=('ML','DS')\n",
    "tup3=tuple1+tuple2\n",
    "print(tup3)"
   ]
  },
  {
   "cell_type": "markdown",
   "metadata": {},
   "source": [
    "# Delete Tuple Elements\n",
    "We cant delete elements from tuple, but we can delete whole tuple."
   ]
  },
  {
   "cell_type": "code",
   "execution_count": 174,
   "metadata": {},
   "outputs": [
    {
     "ename": "TypeError",
     "evalue": "'tuple' object doesn't support item deletion",
     "output_type": "error",
     "traceback": [
      "\u001b[1;31m---------------------------------------------------------------------------\u001b[0m",
      "\u001b[1;31mTypeError\u001b[0m                                 Traceback (most recent call last)",
      "\u001b[1;32m<ipython-input-174-bf4e949c1294>\u001b[0m in \u001b[0;36m<module>\u001b[1;34m\u001b[0m\n\u001b[0;32m      1\u001b[0m \u001b[0mtuple1\u001b[0m\u001b[1;33m=\u001b[0m\u001b[1;33m(\u001b[0m\u001b[1;34m'Asad'\u001b[0m\u001b[1;33m,\u001b[0m\u001b[1;36m6\u001b[0m\u001b[1;33m,\u001b[0m\u001b[1;36m3.7\u001b[0m\u001b[1;33m)\u001b[0m\u001b[1;33m\u001b[0m\u001b[1;33m\u001b[0m\u001b[0m\n\u001b[1;32m----> 2\u001b[1;33m \u001b[1;32mdel\u001b[0m \u001b[0mtuple1\u001b[0m\u001b[1;33m[\u001b[0m\u001b[1;36m0\u001b[0m\u001b[1;33m]\u001b[0m\u001b[1;33m\u001b[0m\u001b[1;33m\u001b[0m\u001b[0m\n\u001b[0m",
      "\u001b[1;31mTypeError\u001b[0m: 'tuple' object doesn't support item deletion"
     ]
    }
   ],
   "source": [
    "tuple1=('Asad',6,3.7)\n",
    "del tuple1[0]\n"
   ]
  },
  {
   "cell_type": "code",
   "execution_count": 264,
   "metadata": {},
   "outputs": [
    {
     "ename": "NameError",
     "evalue": "name 'tuple2' is not defined",
     "output_type": "error",
     "traceback": [
      "\u001b[1;31m---------------------------------------------------------------------------\u001b[0m",
      "\u001b[1;31mNameError\u001b[0m                                 Traceback (most recent call last)",
      "\u001b[1;32m<ipython-input-264-8989a566f8a9>\u001b[0m in \u001b[0;36m<module>\u001b[1;34m\u001b[0m\n\u001b[0;32m      1\u001b[0m \u001b[0mtuple2\u001b[0m\u001b[1;33m=\u001b[0m\u001b[1;33m(\u001b[0m\u001b[1;34m'ML'\u001b[0m\u001b[1;33m,\u001b[0m\u001b[1;34m'DS'\u001b[0m\u001b[1;33m)\u001b[0m\u001b[1;33m\u001b[0m\u001b[1;33m\u001b[0m\u001b[0m\n\u001b[0;32m      2\u001b[0m \u001b[1;32mdel\u001b[0m \u001b[0mtuple2\u001b[0m\u001b[1;33m\u001b[0m\u001b[1;33m\u001b[0m\u001b[0m\n\u001b[1;32m----> 3\u001b[1;33m \u001b[0mprint\u001b[0m\u001b[1;33m(\u001b[0m\u001b[0mtuple2\u001b[0m\u001b[1;33m)\u001b[0m\u001b[1;33m\u001b[0m\u001b[1;33m\u001b[0m\u001b[0m\n\u001b[0m",
      "\u001b[1;31mNameError\u001b[0m: name 'tuple2' is not defined"
     ]
    }
   ],
   "source": [
    "tuple2=('ML','DS')\n",
    "del tuple2\n",
    "print(tuple2)"
   ]
  },
  {
   "cell_type": "markdown",
   "metadata": {},
   "source": [
    "# 6. Sets\n",
    "<ul><li>Sets is <b>unordered collection</b> of items. Sets is <b>mutable</b> data structure</li>\n",
    "    <li>Set elements are <b>unique</b>.</li><li>We use sets in order to avoid duplication.</li><li>Sets are helpful in working with huge datasets.</li><li>Sets are used to include membership testing and eliminating duplicate entries</li><li>It works on Hashing Data structure which takes O(1) time.</li></ul>"
   ]
  },
  {
   "cell_type": "code",
   "execution_count": 265,
   "metadata": {},
   "outputs": [
    {
     "name": "stdout",
     "output_type": "stream",
     "text": [
      "Set is {1, 2, 3}\n",
      "Type of sets : <class 'set'>\n",
      "After adding asad to sets: {1, 2, 3, 'Asad'}\n",
      "Adding elements now set={1, 2, 3, 4, 5, 6, 9.1, 'Asad'}\n"
     ]
    }
   ],
   "source": [
    "#Creating Set\n",
    "sets={1,2,3,1,1,2,2} # it will keep only unique items.\n",
    "print(\"Set is {}\".format(sets))\n",
    "print(\"Type of sets : \"+str(type(sets)))\n",
    "\n",
    "# Adding elements in set.\n",
    "#Single element:\n",
    "sets.add('Asad')\n",
    "print(\"After adding asad to sets: {}\".format(sets))\n",
    "#Multiple elements\n",
    "sets.update({2,5,5,4,6,9.1})\n",
    "print(\"Adding elements now set={}\".format(sets))"
   ]
  },
  {
   "cell_type": "markdown",
   "metadata": {},
   "source": [
    "# Accessing Sets\n",
    "Sets are not accessed using index,slicing etc."
   ]
  },
  {
   "cell_type": "code",
   "execution_count": 266,
   "metadata": {},
   "outputs": [
    {
     "ename": "TypeError",
     "evalue": "'set' object is not subscriptable",
     "output_type": "error",
     "traceback": [
      "\u001b[1;31m---------------------------------------------------------------------------\u001b[0m",
      "\u001b[1;31mTypeError\u001b[0m                                 Traceback (most recent call last)",
      "\u001b[1;32m<ipython-input-266-78dc3d58ff6d>\u001b[0m in \u001b[0;36m<module>\u001b[1;34m\u001b[0m\n\u001b[0;32m      1\u001b[0m \u001b[0msets\u001b[0m\u001b[1;33m=\u001b[0m\u001b[1;33m{\u001b[0m\u001b[1;36m1\u001b[0m\u001b[1;33m,\u001b[0m\u001b[1;36m2\u001b[0m\u001b[1;33m,\u001b[0m\u001b[1;36m3\u001b[0m\u001b[1;33m,\u001b[0m\u001b[1;36m1\u001b[0m\u001b[1;33m,\u001b[0m\u001b[1;36m1\u001b[0m\u001b[1;33m,\u001b[0m\u001b[1;36m2\u001b[0m\u001b[1;33m,\u001b[0m\u001b[1;36m2\u001b[0m\u001b[1;33m}\u001b[0m\u001b[1;33m\u001b[0m\u001b[1;33m\u001b[0m\u001b[0m\n\u001b[1;32m----> 2\u001b[1;33m \u001b[0mprint\u001b[0m\u001b[1;33m(\u001b[0m\u001b[0msets\u001b[0m\u001b[1;33m[\u001b[0m\u001b[1;36m0\u001b[0m\u001b[1;33m]\u001b[0m\u001b[1;33m)\u001b[0m\u001b[1;33m\u001b[0m\u001b[1;33m\u001b[0m\u001b[0m\n\u001b[0m",
      "\u001b[1;31mTypeError\u001b[0m: 'set' object is not subscriptable"
     ]
    }
   ],
   "source": [
    "sets={1,2,3,1,1,2,2}\n",
    "print(sets[0])"
   ]
  },
  {
   "cell_type": "code",
   "execution_count": 175,
   "metadata": {},
   "outputs": [
    {
     "name": "stdout",
     "output_type": "stream",
     "text": [
      "Elements of sets are listed below\n",
      "0\n",
      "1\n",
      "2\n",
      "3\n",
      "9\n",
      "10\n"
     ]
    }
   ],
   "source": [
    "#Printing Sets elements\n",
    "sets={1,3,1,1,2,2,0,10,9}\n",
    "print(\"Elements of sets are listed below\")\n",
    "for i in sets:\n",
    "    print(i)"
   ]
  },
  {
   "cell_type": "markdown",
   "metadata": {},
   "source": [
    "# Delete Set Elements\n",
    "We can delete set elements by using remove() function."
   ]
  },
  {
   "cell_type": "code",
   "execution_count": 176,
   "metadata": {},
   "outputs": [
    {
     "name": "stdout",
     "output_type": "stream",
     "text": [
      "After removing 2 from set now set={0, 1, 3, 9, 10}\n"
     ]
    }
   ],
   "source": [
    "sets={1,3,1,1,2,2,0,10,9}\n",
    "sets.remove(2)\n",
    "print(\"After removing 2 from set now set={}\".format(sets))"
   ]
  },
  {
   "cell_type": "markdown",
   "metadata": {},
   "source": [
    "# 2.2. if/else Statements\n",
    "If/else statements are used for comparisions. These are very helpful in programming language."
   ]
  },
  {
   "cell_type": "code",
   "execution_count": 177,
   "metadata": {},
   "outputs": [
    {
     "name": "stdout",
     "output_type": "stream",
     "text": [
      "Enter the number for example1. 12\n",
      "Yes it is even number.\n",
      "Enter the number for example2. 155\n",
      "a is greater than 30.\n"
     ]
    }
   ],
   "source": [
    "#Example 1.\n",
    "a=input(\"Enter the number for example1. \")\n",
    "a=int(a)\n",
    "if a%2==0:\n",
    "    print(\"Yes it is even number.\")\n",
    "else:\n",
    "    print(\"No, its odd number\")\n",
    "# Example 2.\n",
    "a=input(\"Enter the number for example2. \")\n",
    "a=int(a)\n",
    "if a>10 and a<20:\n",
    "    print(\"a is greater than 10 and less than 20\")\n",
    "elif a>20 and a<30:\n",
    "    print(\"a is greater than 20 and less than 30\")\n",
    "elif a>30:\n",
    "    print(\"a is greater than 30.\")\n"
   ]
  },
  {
   "cell_type": "markdown",
   "metadata": {},
   "source": [
    "# 2.3. for/while Loop.\n",
    "<p>for and while loop used to <b>iterate some pattern</b> which we cant do by hard code.e.g, if we have million of data then we use loops to perform calculations/ apply some pattern to produce result.</p>"
   ]
  },
  {
   "cell_type": "code",
   "execution_count": 178,
   "metadata": {},
   "outputs": [
    {
     "name": "stdout",
     "output_type": "stream",
     "text": [
      "By 1st Method:\n",
      "1\n",
      "2\n",
      "3\n",
      "4\n",
      "By 2nd Method:\n",
      "1\n",
      "2\n",
      "3\n",
      "4\n"
     ]
    }
   ],
   "source": [
    "# For Loop:\n",
    "\n",
    "li=[1,2,3,4]\n",
    "#1st Method:\n",
    "print(\"By 1st Method:\")\n",
    "for item in li:\n",
    "    print(item)\n",
    "#2nd Method:\n",
    "print(\"By 2nd Method:\")\n",
    "for index in range(len(li)):\n",
    "    print(li[index])\n"
   ]
  },
  {
   "cell_type": "code",
   "execution_count": 179,
   "metadata": {},
   "outputs": [
    {
     "name": "stdout",
     "output_type": "stream",
     "text": [
      "While Loop Output:\n",
      "10\n",
      "11\n",
      "12\n",
      "13\n",
      "14\n",
      "15\n",
      "16\n",
      "17\n",
      "18\n",
      "19\n",
      "20\n",
      "While True Output:\n",
      "25\n",
      "26\n",
      "27\n",
      "28\n",
      "29\n",
      "30\n"
     ]
    }
   ],
   "source": [
    "# While Loop:\n",
    "#1st Method:\n",
    "i=10\n",
    "print(\"While Loop Output:\")\n",
    "while(i<=20):\n",
    "    print(i)\n",
    "    i=i+1\n",
    "#2nd Method:\n",
    "i=25\n",
    "print(\"While True Output:\")\n",
    "while(True):\n",
    "    if i<=30:\n",
    "        print(i)\n",
    "        i=i+1\n",
    "        continue\n",
    "    else:\n",
    "        break"
   ]
  },
  {
   "cell_type": "markdown",
   "metadata": {},
   "source": [
    "# 2.4. Type Casting\n"
   ]
  },
  {
   "cell_type": "markdown",
   "metadata": {},
   "source": [
    "# Convert List into Sets."
   ]
  },
  {
   "cell_type": "code",
   "execution_count": 180,
   "metadata": {},
   "outputs": [
    {
     "name": "stdout",
     "output_type": "stream",
     "text": [
      "List into set: {1, 2, 3, 4, 5, 6}\n",
      "<class 'set'>\n"
     ]
    }
   ],
   "source": [
    "#Convert List into Sets.\n",
    "li=[1,2,3,4,5,6]\n",
    "sets=set(li)\n",
    "print(\"List into set: {}\".format(sets))\n",
    "print(type(sets))"
   ]
  },
  {
   "cell_type": "markdown",
   "metadata": {},
   "source": [
    "#  Other Conversions\n"
   ]
  },
  {
   "cell_type": "code",
   "execution_count": 181,
   "metadata": {},
   "outputs": [
    {
     "name": "stdout",
     "output_type": "stream",
     "text": [
      "Float into int: 3\n",
      "String into float: 900.728000\n",
      "Str into tuple: ('a', 's', 'a', 'd') \n"
     ]
    }
   ],
   "source": [
    "#Convert float into int.\n",
    "a=3.51\n",
    "integer=int(a)\n",
    "print(\"Float into int: %d\"%(integer))\n",
    "\n",
    "#Convert string into float\n",
    "a=\"900.728\"\n",
    "fl=float(a)\n",
    "print(\"String into float: %f\"%(fl))\n",
    "\n",
    "#Convert string into tuple\n",
    "st=\"asad\"\n",
    "tup=tuple(st)\n",
    "print(\"Str into tuple: {} \".format(tup))"
   ]
  },
  {
   "cell_type": "code",
   "execution_count": 182,
   "metadata": {},
   "outputs": [
    {
     "name": "stdout",
     "output_type": "stream",
     "text": [
      "Complex form of real: 4 and Imaginary: 9 is (4+9j)\n",
      "Dictionary is {'Name': 'Asad Haroon', 'Semester': 6}\n",
      "Decimal of 110 is 6\n"
     ]
    }
   ],
   "source": [
    "#Convert integer into complex form\n",
    "comp=complex(4,9)\n",
    "print(\"Complex form of real: 4 and Imaginary: 9 is {}\".format(comp))\n",
    "\n",
    "#Convert tuple into dictionary.\n",
    "tup=(('Name','Asad Haroon'),('Semester',6))\n",
    "dic=dict(tup)\n",
    "print(\"Dictionary is {}\".format(dic))\n",
    "\n",
    "#Convert binary into decimal with base 2.\n",
    "s = \"110\" # binary.\n",
    "dec=int(s,2)\n",
    "print(\"Decimal of {} is {}\".format(s,dec))"
   ]
  },
  {
   "cell_type": "markdown",
   "metadata": {},
   "source": [
    "# 2.5. Functions\n",
    "Functions are group of statements that perform specific tasks as per user requirements.<br>\n",
    "Basic Syntax is as follows:<br>\n",
    "def function_name(args):\n",
    "<pre class=\"tab\">Statements<br>\n",
    "return expression</pre>"
   ]
  },
  {
   "cell_type": "markdown",
   "metadata": {},
   "source": [
    "# User Defined Functions."
   ]
  },
  {
   "cell_type": "code",
   "execution_count": 183,
   "metadata": {},
   "outputs": [
    {
     "name": "stdout",
     "output_type": "stream",
     "text": [
      "Example. 1\n",
      "Enter the number 13\n",
      "Its odd number\n",
      "\n",
      "Example. 2\n",
      "Function returns:120\n"
     ]
    }
   ],
   "source": [
    "# Even number teller function.\n",
    "def even(a):\n",
    "    if a%2==0:\n",
    "        return True\n",
    "    else:\n",
    "        return False\n",
    "print(\"Example. 1\")\n",
    "num=input(\"Enter the number \")\n",
    "num=int(num)\n",
    "status=even(num)\n",
    "if status==True:\n",
    "    print(\"Yes its even number\")\n",
    "else:\n",
    "    print(\"Its odd number\")\n",
    "#Example 2.\n",
    "print(\"\\nExample. 2\")\n",
    "def iterator(a):\n",
    "    if a==1 or a==0:\n",
    "        return 1\n",
    "    else:\n",
    "        return a*iterator(a-1)\n",
    "a=iterator(5)\n",
    "print(\"Function returns:\"+str(a))"
   ]
  },
  {
   "cell_type": "markdown",
   "metadata": {},
   "source": [
    "# Lambda Functions\n",
    "They refers to Anonymous Functions. They dont need a return statement because they always return a expression."
   ]
  },
  {
   "cell_type": "code",
   "execution_count": 184,
   "metadata": {},
   "outputs": [
    {
     "name": "stdout",
     "output_type": "stream",
     "text": [
      "Function var2 returns: 4\n",
      "Function var3 returns: 3\n"
     ]
    }
   ],
   "source": [
    "#Lambda Function #1.\n",
    "var2=lambda abc: len(abc)\n",
    "print(\"Function var2 returns: {}\".format(var2('Asad'))) # it will return Length of string.\n",
    "#Lambda Function #2.\n",
    "var3=lambda v: int(v)\n",
    "print(\"Function var3 returns: {}\".format(var3(3.5)))"
   ]
  },
  {
   "cell_type": "markdown",
   "metadata": {},
   "source": [
    "<h3 style=\"text-align:justify; left:10%;\">Map() Function</h3>"
   ]
  },
  {
   "cell_type": "markdown",
   "metadata": {},
   "source": [
    "<ul><li><b>Map() function</b> returns the list of results after applying the given function to each item iteratively.</li>\n",
    "    <li>Syntax of Map(): <b>map(function,iterable)</b> where iterable should be list,tuple etc.</li></ul>"
   ]
  },
  {
   "cell_type": "code",
   "execution_count": 185,
   "metadata": {},
   "outputs": [
    {
     "name": "stdout",
     "output_type": "stream",
     "text": [
      "Lambda function of even to odd returns: [1, 3, 5, 7, 9, 11]\n",
      "Lambda function 2 returns: [1000, 800]\n",
      "[5.5, 6.0, 6.0, 6.25]\n"
     ]
    }
   ],
   "source": [
    "#Example 1.\n",
    "lis1=[0,2,4,6,8,10] #list of even numbers\n",
    "li=map(lambda a:a+1,lis1)\n",
    "print(\"Lambda function of even to odd returns: {}\".format(list(li))) # returns list of odd numbers.\n",
    "\n",
    "#Example 2.\n",
    "dict_a = {'name': 'Asad', 'marks': 10}, {'name': 'Z', 'marks': 8}\n",
    "num=map(lambda a: a['marks']*100,dict_a)\n",
    "print(\"Lambda function 2 returns: {}\".format(list(num)))\n",
    "\n",
    "#Example 3.\n",
    "quiz_marks=[8,10,10,10]\n",
    "assign_marks=[10,9,9,10]\n",
    "marks=map(lambda x,y: x/40*15+(y)/40*10,quiz_marks,assign_marks)\n",
    "print(list(marks))"
   ]
  },
  {
   "cell_type": "markdown",
   "metadata": {},
   "source": [
    "<h3>Filter() Function:</h3>\n",
    "<ul><li><b>Filter()</b> function is used to filter out elements from list.</li>\n",
    "    <li>Syntax: filter(function,iter) where function returns boolean value</li></ul>\n"
   ]
  },
  {
   "cell_type": "code",
   "execution_count": 186,
   "metadata": {},
   "outputs": [
    {
     "name": "stdout",
     "output_type": "stream",
     "text": [
      "['baab', 'aa', 'aab']\n"
     ]
    }
   ],
   "source": [
    "#Example 1.\n",
    "lis=['aaa','a','baab','aa','aab']\n",
    "func=filter(lambda x: x if (x.count('a')==2) else False,lis)\n",
    "print(list(func))\n"
   ]
  },
  {
   "cell_type": "markdown",
   "metadata": {},
   "source": [
    "# 2.6. File Handling"
   ]
  },
  {
   "cell_type": "markdown",
   "metadata": {},
   "source": [
    "<h3>Reading Input from User</h3>"
   ]
  },
  {
   "cell_type": "code",
   "execution_count": 187,
   "metadata": {},
   "outputs": [
    {
     "name": "stdout",
     "output_type": "stream",
     "text": [
      "Enter your Semester:6\n",
      "My Semester is 6\n"
     ]
    }
   ],
   "source": [
    "string=input(\"Enter your Semester:\")\n",
    "print(\"My Semester is \"+string)"
   ]
  },
  {
   "cell_type": "markdown",
   "metadata": {},
   "source": [
    "<h3>From File</h3>"
   ]
  },
  {
   "cell_type": "markdown",
   "metadata": {},
   "source": [
    "File Read and Write Modes are as follows:\n",
    "<ul type=\"*\"><li><b>r:</b> It opens file in read mode only.</li>\n",
    "<li><b>w:</b> It opens file in write mode only.</li>\n",
    "<li><b>r+ :</b>It opens file in read and write.</li>\n",
    "<li><b>a:</b>It opens file in append mode.</li>\n",
    "<li><b>a+ :</b>It opens file in read only and apeend mode.</li>\n",
    "</ul>"
   ]
  },
  {
   "cell_type": "code",
   "execution_count": 188,
   "metadata": {},
   "outputs": [
    {
     "name": "stdout",
     "output_type": "stream",
     "text": [
      "Name: Asad\n",
      "\n",
      "Semester:7\n",
      "\n",
      "Department:BSCS\n",
      "\n",
      "Subjects: DS,ML,CCN\n"
     ]
    }
   ],
   "source": [
    "#Read only Mode\n",
    "data=open('datasets//File.txt','r')\n",
    "for d in data.readlines():\n",
    "    print(d)"
   ]
  },
  {
   "cell_type": "code",
   "execution_count": 189,
   "metadata": {},
   "outputs": [],
   "source": [
    "# Write Only Mode\n",
    "# It will delete all previous content of file. And write new content.\n",
    "data=open('datasets//File.txt','w')\n",
    "data.writelines('Name: Asad\\nSemester:7\\nDepartment:BSCS')\n",
    "data.close\n",
    "\n",
    "f=open('datasets//File.txt','r')\n",
    "for d in f.readlines():\n",
    "    print(d)"
   ]
  },
  {
   "cell_type": "code",
   "execution_count": 190,
   "metadata": {},
   "outputs": [
    {
     "name": "stdout",
     "output_type": "stream",
     "text": [
      "Name: Asad\n",
      "Semester:7\n",
      "Department:BSCS\n"
     ]
    }
   ],
   "source": [
    "#Append Mode\n",
    "data=open('datasets//File.txt','a')\n",
    "data.write('\\nSubjects: DS,ML,CCN')\n",
    "data.close\n",
    "\n",
    "f=open('datasets//File.txt','r')\n",
    "f=f.read()\n",
    "print(f)"
   ]
  },
  {
   "cell_type": "markdown",
   "metadata": {},
   "source": [
    "<h4>File Position</h4>\n",
    "<ul><li><b>tell():</b>It tells the current position of the file.</li>\n",
    "<li><b>seek():</b>It will change the current position of the file pointer.</li></ul>"
   ]
  },
  {
   "cell_type": "code",
   "execution_count": 191,
   "metadata": {},
   "outputs": [
    {
     "name": "stdout",
     "output_type": "stream",
     "text": [
      "Content is:\n",
      "Name: Asad\n",
      "Semester:7\n",
      "File current location is 22\n"
     ]
    }
   ],
   "source": [
    "#Tell():\n",
    "data=open('datasets//File.txt','r')\n",
    "print(\"Content is:\\n\"+data.read(21))\n",
    "print(\"File current location is {}\".format(data.tell()))"
   ]
  },
  {
   "cell_type": "code",
   "execution_count": 192,
   "metadata": {},
   "outputs": [
    {
     "name": "stdout",
     "output_type": "stream",
     "text": [
      "Content is:\n",
      "Name: Asad\n",
      "Semester:7\n",
      "After changing the location\n",
      "\n",
      "Subjects: DS,ML,CCN\n"
     ]
    }
   ],
   "source": [
    "#Seek():\n",
    "data=open('datasets//File.txt','r')\n",
    "print(\"Content is:\\n\"+data.read(21))\n",
    "\n",
    "data.seek(39,0)\n",
    "print(\"After changing the location\")\n",
    "print(data.read())"
   ]
  },
  {
   "cell_type": "markdown",
   "metadata": {},
   "source": [
    "# 2.7. Object Oriented Programming"
   ]
  },
  {
   "cell_type": "markdown",
   "metadata": {},
   "source": [
    "<pre>   <h3>Classes And Constructors</h3> </pre>\n"
   ]
  },
  {
   "cell_type": "markdown",
   "metadata": {},
   "source": [
    "Classes are object constructors which have some properties and definitions.\n",
    "Syntax of defining class is <b>class ClassName:</b><br>\n",
    "Constructors are always executed when class is initiated in java where as in Python we define constructors as <b>def __init__(self):</b>"
   ]
  },
  {
   "cell_type": "code",
   "execution_count": 193,
   "metadata": {},
   "outputs": [
    {
     "name": "stdout",
     "output_type": "stream",
     "text": [
      "Asad\n"
     ]
    }
   ],
   "source": [
    "class Employee: \n",
    "    def __init__(self,name,sno):\n",
    "        self.name=name\n",
    "        self.sno=sno\n",
    "e1=Employee('Asad',4) # Created Object of Employee\n",
    "print(e1.name)"
   ]
  },
  {
   "cell_type": "markdown",
   "metadata": {},
   "source": [
    "<b>Functions in Class</b>"
   ]
  },
  {
   "cell_type": "code",
   "execution_count": 194,
   "metadata": {},
   "outputs": [
    {
     "name": "stdout",
     "output_type": "stream",
     "text": [
      "Employee Name is Asad and Sno is 4\n"
     ]
    }
   ],
   "source": [
    "class Employee: \n",
    "    def __init__(self,name,sno):\n",
    "        self.name=name\n",
    "        self.sno=sno\n",
    "    def prints(self):\n",
    "        print(\"Employee Name is {} and Sno is {}\".format(self.name,self.sno))\n",
    "e1=Employee('Asad',4) # Created Object of Employee\n",
    "e1.prints()"
   ]
  },
  {
   "cell_type": "markdown",
   "metadata": {},
   "source": [
    "# 3. Python Scientific Libraries"
   ]
  },
  {
   "cell_type": "markdown",
   "metadata": {},
   "source": [
    "<p>    <h3>3.1. Numpy</h3></p>"
   ]
  },
  {
   "cell_type": "markdown",
   "metadata": {},
   "source": [
    "<ul><li>It is fast and require less space as compared to Python Lists.</li>\n",
    "    <li>It is written in C language.</li>\n",
    "    <li>It is used to do mathematical operations like Linear Algebra.</li>\n",
    "    <li>It is used to do many operations on Array.</li><li> It provides a high-performance multidimensional array object</li></ul>"
   ]
  },
  {
   "cell_type": "markdown",
   "metadata": {},
   "source": [
    "<h3>Functions:</h3>\n",
    "<ul>\n",
    "    <li><b>arange():</b> It works like range function. And it will create an array from 0 value to inputted value.</li>\n",
    "    <li><b>ones():</b>It will create an matrix of all ones of specific dimension.</li>\n",
    "    <li><b>repeat(array,x):</b>It will repeat the elements of array each x times.</li>\n",
    "    <li><b>tile(array,x):</b>It will repeat the whole array x times.</li>\n",
    "     <li><b>zeros():</b> It will create an array of all zeros of specific dimension.</li>\n",
    "    <li><b>shape():</b>It will return the order of the matrix.</li>\n",
    "    <li><b>full():</b>It will make an matrix of all input value in specific order.</li>\n",
    "    <li><b>sum(axis):</b>It will sum up col-wise elements of matrix if <b>axis=0. else if axis=1,</b> then it will sum up row-wise elements.</li>\n",
    "    <li><b>where(condition):</b>It will tell the location of elements of given condition.</li>\n",
    "    </ul>"
   ]
  },
  {
   "cell_type": "code",
   "execution_count": 195,
   "metadata": {},
   "outputs": [
    {
     "name": "stdout",
     "output_type": "stream",
     "text": [
      "Array of range till 10: [0 1 2 3 4 5 6 7 8 9]\n",
      "Array of arrange function [10:25,5] is [10 15 20 25 30 35 40 45]\n",
      "\n",
      "Array of 2x3 of ones: [[1 1 1]\n",
      " [1 1 1]]\n",
      "The contents of repeating arr,3 are [1 1 1 2 2 2 3 3 3]\n",
      "The contents of tile a,4 are [1 2 3 1 2 3 1 2 3 1 2 3]\n"
     ]
    }
   ],
   "source": [
    "import numpy as np\n",
    "#arange function():\n",
    "\n",
    "#Example1 arange()\n",
    "arr=np.arange(10)\n",
    "print(\"Array of range till 10: {}\".format(arr))\n",
    "#Example2 arange()\n",
    "arr3=np.arange(10,50,5) # it will create an array of value starting from 10 and ending at 25 with step-iteration of 5.\n",
    "#Syntax of arange is arange(start=10,stop=50,step=5)\n",
    "print(\"Array of arrange function [10:25,5] is {}\".format(arr3))\n",
    "\n",
    "#ones function():\n",
    "arr2=np.ones((2,3),dtype=int)\n",
    "print(\"\\nArray of 2x3 of ones: {}\".format(arr2))\n",
    "\n",
    "#repeat function():\n",
    "arr=np.array([1,2,3])\n",
    "arr=np.repeat(arr,3)\n",
    "print(\"The contents of repeating arr,3 are {}\".format(arr))\n",
    "\n",
    "#tile function():\n",
    "a=np.array([1,2,3])\n",
    "arr=np.tile(a,4)\n",
    "print(\"The contents of tile a,4 are {}\".format(arr))"
   ]
  },
  {
   "cell_type": "code",
   "execution_count": 196,
   "metadata": {},
   "outputs": [
    {
     "name": "stdout",
     "output_type": "stream",
     "text": [
      "Array of 2x2 of all zeros is [[0 0]\n",
      " [0 0]]\n",
      "\n",
      "rows are 3 and cols are 4\n",
      "\n",
      "Matrix full with 10 is [[10 10 10 10]\n",
      " [10 10 10 10]\n",
      " [10 10 10 10]]\n",
      "Contents of arr1 is [[1 2 3]\n",
      " [4 5 6]]\n",
      "\n",
      "Sum of arr1 on axis=0 is [5 7 9]\n",
      "Sum of arr1 on axis=1 is [ 6 15]\n",
      "The locations of arr>10 are (array([3, 4], dtype=int64),)\n"
     ]
    }
   ],
   "source": [
    "\n",
    "#zeros function():\n",
    "zero=np.zeros((2,2),dtype=int)\n",
    "print(\"Array of 2x2 of all zeros is {}\\n\".format(zero))\n",
    "\n",
    "#shape function():\n",
    "arr=np.zeros((3,4))\n",
    "row,col=np.shape(arr) # shape function return tuple of order of matrix which is (rows,cols)\n",
    "print(\"rows are {} and cols are {}\\n\".format(row,col))\n",
    "\n",
    "#full function():\n",
    "arrfull=np.full((3,4),10) # it will create an matrix of all values 10 with dimension of 3x4.\n",
    "print(\"Matrix full with 10 is {}\".format(arrfull))\n",
    "#axis function():\n",
    "arr1=np.array(([1,2,3],[4,5,6]))\n",
    "print(\"Contents of arr1 is {}\\n\".format(arr1))\n",
    "a=arr1.sum(axis=0)\n",
    "print(\"Sum of arr1 on axis=0 is {}\".format(a))\n",
    "a=arr1.sum(axis=1)\n",
    "print(\"Sum of arr1 on axis=1 is {}\".format(a))\n",
    "\n",
    "#where function():\n",
    "arr=np.array([1,2,10,22,21])\n",
    "a=np.where(arr>10)\n",
    "print(\"The locations of arr>10 are {}\".format(a))"
   ]
  },
  {
   "cell_type": "markdown",
   "metadata": {},
   "source": [
    "# 3.2.Pandas"
   ]
  },
  {
   "cell_type": "markdown",
   "metadata": {},
   "source": [
    "<ul>\n",
    "    <li>It is an open source library, provides high performance, easy to use functions and data structures and best for <b>data analysis.</b></li>\n",
    "    <li>It allows for <b>fast analysis and data cleaning</b>.</li>\n",
    "</ul>"
   ]
  },
  {
   "cell_type": "markdown",
   "metadata": {},
   "source": [
    "<h3>Components of Pandas</h3>\n",
    "There are two components of pandas.\n",
    "<ol><li>Series</li><li>Data Frame</li></ol>"
   ]
  },
  {
   "cell_type": "markdown",
   "metadata": {},
   "source": [
    "<h3>1. Series</h3>\n",
    "Series is essientially a column and it is very similar to Numpy Array. It is 1d Array of data. It has axis label and it can be indexed by the label.<br>\n",
    "To create a Series in Pandas, the following function is used <b>a=pd.Series(data,index=index)</b>.<br>\n",
    "We can create Series from three different ways.\n",
    "<ul><li>Python Dictionary</li><li>From ndarray(numpy random array)</li><li>Scalar Value</li></ul>"
   ]
  },
  {
   "cell_type": "markdown",
   "metadata": {},
   "source": [
    "<h3>1.1. From Random array</h3>"
   ]
  },
  {
   "cell_type": "code",
   "execution_count": 197,
   "metadata": {},
   "outputs": [
    {
     "name": "stdout",
     "output_type": "stream",
     "text": [
      "Contents of a is\n",
      "A    0.384594\n",
      "B    0.294880\n",
      "C    0.144340\n",
      "dtype: float64\n",
      "Type of np.random.rand is <class 'numpy.ndarray'> and type of a is <class 'pandas.core.series.Series'>\n"
     ]
    }
   ],
   "source": [
    "import pandas as pd\n",
    "import numpy as np\n",
    "a=pd.Series(np.random.rand(3),index=['A','B','C'])\n",
    "print(\"Contents of a is\\n{}\".format(a))\n",
    "print(\"Type of np.random.rand is {} and type of a is {}\".format(type(np.random.rand(3)),type(a)))"
   ]
  },
  {
   "cell_type": "code",
   "execution_count": 198,
   "metadata": {},
   "outputs": [
    {
     "name": "stdout",
     "output_type": "stream",
     "text": [
      "Index(['A', 'B', 'C'], dtype='object')\n"
     ]
    }
   ],
   "source": [
    "# To print the index of array.\n",
    "print(a.index)\n"
   ]
  },
  {
   "cell_type": "code",
   "execution_count": 199,
   "metadata": {},
   "outputs": [
    {
     "name": "stdout",
     "output_type": "stream",
     "text": [
      "0    0.014739\n",
      "1    0.501020\n",
      "2    0.884920\n",
      "3    0.405336\n",
      "4    0.738612\n",
      "5    0.876131\n",
      "6    0.042329\n",
      "7    0.878318\n",
      "8    0.109824\n",
      "9    0.161092\n",
      "dtype: float64\n"
     ]
    }
   ],
   "source": [
    "# IF we dont assign index in Series then it will automatically generate index from 0 to len(array-1)\n",
    "#Example\n",
    "series=pd.Series(np.random.rand(10))\n",
    "print(series)\n"
   ]
  },
  {
   "cell_type": "markdown",
   "metadata": {},
   "source": [
    "<h3>1.2.From Dictionary.</h3>"
   ]
  },
  {
   "cell_type": "code",
   "execution_count": 200,
   "metadata": {
    "scrolled": true
   },
   "outputs": [
    {
     "name": "stdout",
     "output_type": "stream",
     "text": [
      "Contents of Example 1 is \n",
      "Semester    6\n",
      "Name        A\n",
      "dtype: object\n",
      "\n",
      "\n",
      "Contents of Example 2 is \n",
      "Name                    A\n",
      "Subjects    {DS, OOP, ML}\n",
      "Semester                6\n",
      "dtype: object\n"
     ]
    }
   ],
   "source": [
    "# Example 1: Where dictionary has key, value pair and \n",
    "#Series will automatically pick key as index and value as their corresponding index value\n",
    "di={'Semester':'6','Name':'A'}\n",
    "a=pd.Series(di)\n",
    "print(\"Contents of Example 1 is \\n{}\".format(a))\n",
    "print(\"\\n\")\n",
    "#Example 2: Where index are given but not in order but Series will automatically pick their indexes values from the dictionary.\n",
    "i={'Semester':'6','Name':'A','Subjects':{'ML','DS','OOP'}}\n",
    "b=pd.Series(i,index=['Name','Subjects','Semester'])\n",
    "print(\"Contents of Example 2 is \\n{}\".format(b))"
   ]
  },
  {
   "cell_type": "markdown",
   "metadata": {},
   "source": [
    "# 1.3. From Scalar Value \n",
    "If data is in scalar value then index must be provided."
   ]
  },
  {
   "cell_type": "code",
   "execution_count": 201,
   "metadata": {},
   "outputs": [
    {
     "name": "stdout",
     "output_type": "stream",
     "text": [
      "Output is \n",
      "a    10\n",
      "b     2\n",
      "c     3\n",
      "dtype: int64\n",
      "\n",
      "Output of 2nd Example is\n",
      "10    4\n",
      "20    4\n",
      "30    4\n",
      "40    4\n",
      "50    4\n",
      "60    4\n",
      "dtype: int64\n"
     ]
    }
   ],
   "source": [
    "#Example 1:\n",
    "sc=pd.Series([10,2,3],index=['a','b','c'])\n",
    "print(\"Output is \\n{}\".format(sc))\n",
    "\n",
    "#Example 2: It will now use 4 as value of index and assign 4 to all index.\n",
    "scc=pd.Series(4,index=[10,20,30,40,50,60])\n",
    "print(\"\\nOutput of 2nd Example is\")\n",
    "print(scc)"
   ]
  },
  {
   "cell_type": "markdown",
   "metadata": {},
   "source": [
    "# 1.4. Series Slicing "
   ]
  },
  {
   "cell_type": "code",
   "execution_count": 202,
   "metadata": {},
   "outputs": [
    {
     "name": "stdout",
     "output_type": "stream",
     "text": [
      "Contents of Series is \n",
      "a        1.000\n",
      "b        2.000\n",
      "c        3.000\n",
      "d        4.000\n",
      "e        5.000\n",
      "f        6.000\n",
      "g        7.000\n",
      "h        9.230\n",
      "i    92309.000\n",
      "j      983.923\n",
      "dtype: float64\n",
      "\n",
      "\n",
      "Series[0] is 1.0\n",
      "\n",
      "Result of Series[0:4:2] is\n",
      "a    1.0\n",
      "c    3.0\n",
      "dtype: float64\n",
      "\n",
      "\n",
      "Mean of series is 9333.0153 and instruction i[i>i.mean()] result is \n",
      "i    92309.0\n",
      "dtype: float64\n"
     ]
    }
   ],
   "source": [
    "# Declaration of Series\n",
    "i=pd.Series([1,2,3,4,5,6,7,9.23,92309,983.923],index=['a','b','c','d','e','f','g','h','i','j'])\n",
    "print(\"Contents of Series is \\n{}\".format(i))\n",
    "print(\"\\n\")\n",
    "#Series Slicings:\n",
    "#Example1:\n",
    "print(\"Series[0] is\",i[0])\n",
    "#Example2:\n",
    "print(\"\\nResult of Series[0:4:2] is\\n{}\".format(i[0:4:2])) # it will pick from 0 index and skip index by 2.\n",
    "#i.e, 0 and 2 index will be included.\n",
    "print(\"\\n\")\n",
    "#Example3:\n",
    "print(\"Mean of series is {} and instruction i[i>i.mean()] result is \\n{}\".format(i.mean(),i[i>i.mean()]))\n",
    "\n"
   ]
  },
  {
   "cell_type": "code",
   "execution_count": 203,
   "metadata": {},
   "outputs": [
    {
     "name": "stdout",
     "output_type": "stream",
     "text": [
      "6.0\n"
     ]
    }
   ],
   "source": [
    "# To access value of index\n",
    "print(i['f'])"
   ]
  },
  {
   "cell_type": "code",
   "execution_count": 204,
   "metadata": {},
   "outputs": [
    {
     "name": "stdout",
     "output_type": "stream",
     "text": [
      "Now updated Series is\n",
      "a         1.00\n",
      "b         2.00\n",
      "c         3.00\n",
      "d         4.00\n",
      "e         5.00\n",
      "f         6.00\n",
      "g         7.00\n",
      "h         9.23\n",
      "i     92309.00\n",
      "j    998398.00\n",
      "dtype: float64\n"
     ]
    }
   ],
   "source": [
    "# To update value of index simply assign new value.\n",
    "i['j']=998398\n",
    "print(\"Now updated Series is\\n{}\".format(i))"
   ]
  },
  {
   "cell_type": "code",
   "execution_count": 205,
   "metadata": {},
   "outputs": [
    {
     "name": "stdout",
     "output_type": "stream",
     "text": [
      " 'a' in i returns True\n",
      " 'a ' in i returns False\n"
     ]
    }
   ],
   "source": [
    "# to check some index is present in Series or not.\n",
    "st='a' in i\n",
    "print(\" 'a' in i returns\",st)\n",
    "#Example 2\n",
    "st='a ' in i\n",
    "print(\" 'a ' in i returns\",st) # because space after a index is not present in Series."
   ]
  },
  {
   "cell_type": "markdown",
   "metadata": {},
   "source": [
    "# 1.5. Vectorized Operations on Series"
   ]
  },
  {
   "cell_type": "code",
   "execution_count": 206,
   "metadata": {},
   "outputs": [
    {
     "name": "stdout",
     "output_type": "stream",
     "text": [
      "Series is\n",
      " a    0.295640\n",
      "b    0.846414\n",
      "c    0.879989\n",
      "d    0.125169\n",
      "e    0.964775\n",
      "dtype: float64\n",
      "\n",
      "\n",
      "After s1+s1 returns\n",
      "a    0.591281\n",
      "b    1.692828\n",
      "c    1.759978\n",
      "d    0.250339\n",
      "e    1.929549\n",
      "dtype: float64\n",
      "\n",
      "Addition of s1 and s2 is as follows:\n",
      "\n",
      "a    NaN\n",
      "a1   NaN\n",
      "b    NaN\n",
      "b1   NaN\n",
      "c    NaN\n",
      "c1   NaN\n",
      "d    NaN\n",
      "d1   NaN\n",
      "e    NaN\n",
      "e1   NaN\n",
      "dtype: float64\n"
     ]
    }
   ],
   "source": [
    "# To add a Series contents (index-wise)\n",
    "s1=pd.Series(np.random.rand(5),index=['a','b','c','d','e'])\n",
    "print(\"Series is\\n\",s1)\n",
    "print(\"\\n\")\n",
    "print(\"After s1+s1 returns\\n{}\".format(s1+s1))\n",
    "\n",
    "# If index of two Series does not match then it will dont add up.\n",
    "s2=pd.Series(np.random.rand(5),index=['a1','b1','c1','d1','e1'])\n",
    "print(\"\\nAddition of s1 and s2 is as follows:\\n\")\n",
    "print(s1+s2)"
   ]
  },
  {
   "cell_type": "code",
   "execution_count": 207,
   "metadata": {},
   "outputs": [
    {
     "name": "stdout",
     "output_type": "stream",
     "text": [
      "Name of s1 is:  Series of first five Natural Numbers\n",
      "After renaming the series its name is now:  2nd Series\n"
     ]
    }
   ],
   "source": [
    "# TO name the series.\n",
    "s1=pd.Series([1,2,3,4,5],index=['a','b','c','d','e'],name='Series of first five Natural Numbers')\n",
    "print(\"Name of s1 is: \",s1.name)\n",
    "# To rename the series, we cant rename the original series so copy it in other attribute first and then rename it.\n",
    "s2=s1.rename('2nd Series')\n",
    "print(\"After renaming the series its name is now: \",s2.name)"
   ]
  },
  {
   "cell_type": "markdown",
   "metadata": {},
   "source": [
    "# 2. Data Frames\n",
    "A two-dimensional labeled data structure with columns of potentially different types.\n",
    "It accepts many kind of inputs.\n",
    "<ul><li>Dictionary of 1D ndarrays,dicts,lists or sets.</li>\n",
    "    <li>2D Numpy Arrays.</li>\n",
    "    <li>A Series</li>\n",
    "    <li>Data Frame.</li>\n",
    "</ul>\n",
    "The data in the dataframe is actually stored on memory as collection of Series. And it provides various functionalities to analyze, change and extract some information from the dataset."
   ]
  },
  {
   "cell_type": "markdown",
   "metadata": {},
   "source": [
    "<h3>2.1.From Dictionary</h3>"
   ]
  },
  {
   "cell_type": "code",
   "execution_count": 208,
   "metadata": {},
   "outputs": [
    {
     "name": "stdout",
     "output_type": "stream",
     "text": [
      "Data Frame is\n",
      "       height  weight\n",
      "Ali       5.0      40\n",
      "Ammar     NaN      70\n",
      "Asad      7.0      60\n",
      "Basit     6.0      50\n",
      "type of df is  <class 'pandas.core.frame.DataFrame'>\n"
     ]
    }
   ],
   "source": [
    "#Declaration\n",
    "import pandas as pd\n",
    "d={'height':pd.Series([5,6,7],index=['Ali','Basit','Asad']),\n",
    "   'weight':pd.Series([40,50,60,70],index=['Ali','Basit','Asad','Ammar'])\n",
    "  }\n",
    "df=pd.DataFrame(d)\n",
    "print(\"Data Frame is\\n{}\".format(df))\n",
    "print(\"type of df is \",type(df))"
   ]
  },
  {
   "cell_type": "code",
   "execution_count": 209,
   "metadata": {},
   "outputs": [
    {
     "name": "stdout",
     "output_type": "stream",
     "text": [
      "       height    B\n",
      "Ali       5.0  NaN\n",
      "Basit     6.0  NaN\n",
      "Asad      7.0  NaN\n",
      "Ammar     NaN  NaN\n"
     ]
    }
   ],
   "source": [
    "# It will show only limited data i.e, only columns height and B data and given index data.\n",
    "import pandas as pd\n",
    "d={'height':pd.Series([5,6,7],index=['Ali','Basit','Asad']),\n",
    "   'weight':pd.Series([40,50,60,70],index=['Ali','Basit','Asad','Ammar'])\n",
    "  }\n",
    "df=pd.DataFrame(d,index=['Ali','Basit','Asad','Ammar'],columns=['height','B'])\n",
    "print(df)"
   ]
  },
  {
   "cell_type": "markdown",
   "metadata": {},
   "source": [
    "<h3>2.2. From Dict of Lists and ndArrays(Numpy)</h3>"
   ]
  },
  {
   "cell_type": "code",
   "execution_count": 210,
   "metadata": {},
   "outputs": [
    {
     "name": "stdout",
     "output_type": "stream",
     "text": [
      "With Auto Generated Index\n",
      "    height  weight\n",
      "0      10     100\n",
      "1      20     200\n",
      "2      30     300\n",
      "3      40     400\n",
      "\n",
      "\n",
      "With given index values\n",
      "   height  weight\n",
      "a      10     100\n",
      "b      20     200\n",
      "c      30     300\n",
      "d      40     400\n"
     ]
    }
   ],
   "source": [
    "#Declaration\n",
    "d={\n",
    "    'height':[10,20,30,40],\n",
    "    'weight':[100,200,300,400]\n",
    "}\n",
    "df=pd.DataFrame(d)\n",
    "print(\"With Auto Generated Index\\n {}\".format(df))\n",
    "print(\"\\n\")\n",
    "#With Given Index.\n",
    "df=pd.DataFrame(d,index=['a','b','c','d'])\n",
    "print(\"With given index values\\n{}\".format(df))"
   ]
  },
  {
   "cell_type": "code",
   "execution_count": 211,
   "metadata": {},
   "outputs": [
    {
     "name": "stdout",
     "output_type": "stream",
     "text": [
      "           A\n",
      "aa  0.584805\n",
      "bb  0.133878\n",
      "cc  0.031587\n",
      "dd  0.739434\n",
      "ee  0.859939\n"
     ]
    }
   ],
   "source": [
    "#nd arrays(Numpy Array)\n",
    "\n",
    "df=pd.DataFrame(np.random.rand(5),index=['aa','bb','cc','dd','ee'],columns=['A'])\n",
    "print(df)"
   ]
  },
  {
   "cell_type": "markdown",
   "metadata": {},
   "source": [
    "<h3>2.3.From List of Dicts.</h3>"
   ]
  },
  {
   "cell_type": "code",
   "execution_count": 212,
   "metadata": {},
   "outputs": [
    {
     "name": "stdout",
     "output_type": "stream",
     "text": [
      "     Name  Semester  GPA\n",
      "1st  Asad         6    4\n",
      "2nd  Zain         6    3\n"
     ]
    }
   ],
   "source": [
    "#Declaration\n",
    "li=[{'Semester':6,'Name':'Asad','GPA':4},{'Semester':6,'Name':'Zain','GPA':3}]\n",
    "df=pd.DataFrame(li,index=['1st','2nd'],columns=['Name','Semester','GPA'])\n",
    "print(df)"
   ]
  },
  {
   "cell_type": "markdown",
   "metadata": {},
   "source": [
    "<h3>2.4. Read Data From CSV</h3>\n"
   ]
  },
  {
   "cell_type": "code",
   "execution_count": 213,
   "metadata": {},
   "outputs": [
    {
     "name": "stdout",
     "output_type": "stream",
     "text": [
      "   user_id  recipe_id        date  rating   u       i\n",
      "0     8937      44551  12/23/2005       4   2  173538\n",
      "1    56680     126118   10/7/2006       4  16  177847\n",
      "2   349752     219596   4/12/2008       0  26   89896\n",
      "3   628951      82783  11/13/2007       2  45  172637\n",
      "4    92816     435013   7/31/2013       3  52  177935\n"
     ]
    }
   ],
   "source": [
    "df=pd.read_csv('datasets//dataset.csv')\n",
    "# Selection of columns from dataset\n",
    "print(df.head())"
   ]
  },
  {
   "cell_type": "markdown",
   "metadata": {},
   "source": [
    "<h3>2.5. DataFrame Functions for Viewing/Inspecting Data and Statistics:</h3>\n",
    "Dataset Functions are listed below:\n",
    "<ul>\n",
    "    <li><b>head(n):</b> It will pick first n rows from datasets.</li>\n",
    "    <li><b>tail(n):</b> It will pick last n rows from datasets.</li>\n",
    "    <li><b>shape():</b> It will return the shape of the dataframe.</li>\n",
    "     <li><b>df.columns:</b> It will tell the columns of the dataframe.</li>\n",
    "     <li><b>df.index:</b> It will tell the starting and ending index of the datasets.</li>\n",
    "    <li><b>df.info():</b>It will tell the information of the dataframes.</li>\n",
    "    <li><b>df.count():</b>It will count the non NA values of each column i.e, not null.</li>\n",
    "    <li><b>df.sum():</b>It will sum up column wise all the values of each column.</li>\n",
    "    <li><b>df.min():</b>It will tell the minimum value of each column</li>\n",
    "    <li><b>df.max():</b>It will tell the maximum value of each column.</li>\n",
    "    <li><b>df.mean():</b>It will tell the mean of values of each column.</li>\n",
    "    <li><b>df.median():</b>It will tell the median of values of each column.</li>\n",
    "    <li><b>df.describe():</b>It will generate the statistical summary of the dataframe.</li>\n",
    "    <li><b>df.dtypes:</b>it will print the types of all column attributes.</li>\n",
    "</ul>"
   ]
  },
  {
   "cell_type": "code",
   "execution_count": 214,
   "metadata": {},
   "outputs": [
    {
     "name": "stdout",
     "output_type": "stream",
     "text": [
      "Head of dataset:\n",
      "   user_id  recipe_id        date  rating   u       i\n",
      "0     8937      44551  12/23/2005       4   2  173538\n",
      "1    56680     126118   10/7/2006       4  16  177847\n",
      "2   349752     219596   4/12/2008       0  26   89896\n",
      "3   628951      82783  11/13/2007       2  45  172637\n",
      "4    92816     435013   7/31/2013       3  52  177935\n"
     ]
    }
   ],
   "source": [
    "print(\"Head of dataset:\")\n",
    "print(df.head()) # by default head function returns first five rows of datasets."
   ]
  },
  {
   "cell_type": "code",
   "execution_count": 215,
   "metadata": {},
   "outputs": [
    {
     "name": "stdout",
     "output_type": "stream",
     "text": [
      "Tail of dataset:\n",
      "       user_id  recipe_id        date  rating      u       i\n",
      "12445   541949     175116    9/8/2007       2  25033  125465\n",
      "12446  1248602     299886  12/14/2013       4  25041  133351\n",
      "12447  1724643     375807   11/8/2011       5  25047  154459\n",
      "12448   937528     375371    1/6/2010       5  25048  157275\n",
      "12449   472815     187829  10/31/2011       0  25051  147807\n",
      "12450   101053     179011    1/3/2009       5  25054  130258\n",
      "12451   252205      81398  12/26/2005       2  25055  152255\n",
      "12452   624305     142984   1/15/2011       1  25057  139864\n",
      "12453   173575     104842  12/18/2004       3  25059  140646\n",
      "12454  1249650     287280   4/28/2009       4  25070  166028\n"
     ]
    }
   ],
   "source": [
    "print(\"Tail of dataset:\")\n",
    "print(df.tail(10))"
   ]
  },
  {
   "cell_type": "code",
   "execution_count": 216,
   "metadata": {},
   "outputs": [
    {
     "name": "stdout",
     "output_type": "stream",
     "text": [
      "Shape of dataset:\n",
      "Rows are  12455\n",
      "Cols are  6\n"
     ]
    }
   ],
   "source": [
    "print(\"Shape of dataset:\")\n",
    "row,col=df.shape\n",
    "print(\"Rows are \",row)\n",
    "print(\"Cols are \",col)"
   ]
  },
  {
   "cell_type": "code",
   "execution_count": 217,
   "metadata": {},
   "outputs": [
    {
     "name": "stdout",
     "output_type": "stream",
     "text": [
      "Columns of datsets are:\n",
      "\n",
      "Index(['user_id', 'recipe_id', 'date', 'rating', 'u', 'i'], dtype='object')\n"
     ]
    }
   ],
   "source": [
    "print(\"Columns of datsets are:\\n\")\n",
    "print(df.columns)"
   ]
  },
  {
   "cell_type": "code",
   "execution_count": 218,
   "metadata": {},
   "outputs": [
    {
     "name": "stdout",
     "output_type": "stream",
     "text": [
      "It will tell the starting and ending index of the datasets.\n",
      "\n",
      "RangeIndex(start=0, stop=12455, step=1)\n"
     ]
    }
   ],
   "source": [
    "print(\"It will tell the starting and ending index of the datasets.\\n\")\n",
    "print(df.index)"
   ]
  },
  {
   "cell_type": "code",
   "execution_count": 219,
   "metadata": {},
   "outputs": [
    {
     "name": "stdout",
     "output_type": "stream",
     "text": [
      "It will tell the information of the dataframes.\n",
      "\n",
      "<class 'pandas.core.frame.DataFrame'>\n",
      "RangeIndex: 12455 entries, 0 to 12454\n",
      "Data columns (total 6 columns):\n",
      "user_id      12455 non-null int64\n",
      "recipe_id    12455 non-null int64\n",
      "date         12455 non-null object\n",
      "rating       12455 non-null int64\n",
      "u            12455 non-null int64\n",
      "i            12455 non-null int64\n",
      "dtypes: int64(5), object(1)\n",
      "memory usage: 583.9+ KB\n",
      "None\n"
     ]
    }
   ],
   "source": [
    "print(\"It will tell the information of the dataframes.\\n\")\n",
    "print(df.info())"
   ]
  },
  {
   "cell_type": "code",
   "execution_count": 220,
   "metadata": {},
   "outputs": [
    {
     "name": "stdout",
     "output_type": "stream",
     "text": [
      "It will count the non NA values of each column i.e, not null\n",
      "\n",
      "user_id      12455\n",
      "recipe_id    12455\n",
      "date         12455\n",
      "rating       12455\n",
      "u            12455\n",
      "i            12455\n",
      "dtype: int64\n"
     ]
    }
   ],
   "source": [
    "print(\"It will count the non NA values of each column i.e, not null\\n\")\n",
    "print(df.count())"
   ]
  },
  {
   "cell_type": "code",
   "execution_count": 221,
   "metadata": {},
   "outputs": [
    {
     "name": "stdout",
     "output_type": "stream",
     "text": [
      "It will sum up column wise all the values of each column\n",
      "\n",
      "user_id                                           362775382662\n",
      "recipe_id                                           2607119516\n",
      "date         12/23/200510/7/20064/12/200811/13/20077/31/201...\n",
      "rating                                                   52474\n",
      "u                                                    153053259\n",
      "i                                                   1438404578\n",
      "dtype: object\n"
     ]
    }
   ],
   "source": [
    "print(\"It will sum up column wise all the values of each column\\n\")\n",
    "print(df.sum())"
   ]
  },
  {
   "cell_type": "code",
   "execution_count": 222,
   "metadata": {},
   "outputs": [
    {
     "name": "stdout",
     "output_type": "stream",
     "text": [
      "Max(): It will tell the maximum value of each column\n",
      "\n",
      "user_id      2002254807\n",
      "recipe_id        537716\n",
      "date           9/9/2018\n",
      "rating                5\n",
      "u                 25074\n",
      "i                178264\n",
      "dtype: object\n",
      "\n",
      "\n",
      "Min(): It will tell the minimum value of each column\n",
      "\n",
      "user_id          1533\n",
      "recipe_id         120\n",
      "date         1/1/2005\n",
      "rating              0\n",
      "u                   2\n",
      "i                 102\n",
      "dtype: object\n"
     ]
    }
   ],
   "source": [
    "print(\"Max(): It will tell the maximum value of each column\\n\")\n",
    "print(df.max())\n",
    "print(\"\\n\")\n",
    "print(\"Min(): It will tell the minimum value of each column\\n\")\n",
    "print(df.min())"
   ]
  },
  {
   "cell_type": "code",
   "execution_count": 223,
   "metadata": {},
   "outputs": [
    {
     "name": "stdout",
     "output_type": "stream",
     "text": [
      "It will tell the mean of values of each column\n",
      "\n",
      "user_id      2.912689e+07\n",
      "recipe_id    2.093231e+05\n",
      "rating       4.213087e+00\n",
      "u            1.228850e+04\n",
      "i            1.154881e+05\n",
      "dtype: float64\n"
     ]
    }
   ],
   "source": [
    "print(\"It will tell the mean of values of each column\\n\")\n",
    "print(df.mean())"
   ]
  },
  {
   "cell_type": "code",
   "execution_count": 224,
   "metadata": {},
   "outputs": [
    {
     "name": "stdout",
     "output_type": "stream",
     "text": [
      "It will tell the median of values of each column\n",
      "\n",
      "user_id      382954.0\n",
      "recipe_id    195040.0\n",
      "rating            5.0\n",
      "u             12023.0\n",
      "i            127793.0\n",
      "dtype: float64\n"
     ]
    }
   ],
   "source": [
    "print(\"It will tell the median of values of each column\\n\")\n",
    "print(df.median())"
   ]
  },
  {
   "cell_type": "code",
   "execution_count": 225,
   "metadata": {
    "scrolled": true
   },
   "outputs": [
    {
     "name": "stdout",
     "output_type": "stream",
     "text": [
      "Statistical Summary of the dataset is as follows:\n",
      "\n",
      "            user_id      recipe_id        rating             u              i\n",
      "count  1.245500e+04   12455.000000  12455.000000  12455.000000   12455.000000\n",
      "mean   2.912689e+07  209323.124528      4.213087  12288.499318  115488.123485\n",
      "std    2.334357e+08  135001.832923      1.338503   6897.751394   50448.663212\n",
      "min    1.533000e+03     120.000000      0.000000      2.000000     102.000000\n",
      "25%    1.698420e+05   94616.000000      4.000000   6428.500000   76904.000000\n",
      "50%    3.829540e+05  195040.000000      5.000000  12023.000000  127793.000000\n",
      "75%    8.016370e+05  314928.500000      5.000000  17985.500000  160024.000000\n",
      "max    2.002255e+09  537716.000000      5.000000  25074.000000  178264.000000\n"
     ]
    }
   ],
   "source": [
    "print(\"Statistical Summary of the dataset is as follows:\\n\")\n",
    "print(df.describe())"
   ]
  },
  {
   "cell_type": "code",
   "execution_count": 226,
   "metadata": {},
   "outputs": [
    {
     "data": {
      "text/plain": [
       "user_id       int64\n",
       "recipe_id     int64\n",
       "date         object\n",
       "rating        int64\n",
       "u             int64\n",
       "i             int64\n",
       "dtype: object"
      ]
     },
     "execution_count": 226,
     "metadata": {},
     "output_type": "execute_result"
    }
   ],
   "source": [
    "# it will print the types of all column attributes.\n",
    "df.dtypes"
   ]
  },
  {
   "cell_type": "markdown",
   "metadata": {},
   "source": [
    "<h3>2.6. Data Cleaning</h3>\n",
    "<ul>\n",
    "    <li><b>df.dropna():</b> It will drop all rows that contains missing data(NaN).</li>\n",
    "     <li><b>df.dropna(axis=1):</b> It will drop all columns that contains missing data.</li>\n",
    "     <li><b>df.dropna(axis=0):</b> It will drop all rows that contains missing data.</li>\n",
    "     <li><b>df.fillna(x):</b> It will fill all nan(missing data) with x value.</li>\n",
    "    <li><b>df.replace(value,newvalue):</b> It will replace all values with newvalue in the dataset.</li>\n",
    "</ul>"
   ]
  },
  {
   "cell_type": "code",
   "execution_count": 227,
   "metadata": {},
   "outputs": [
    {
     "name": "stdout",
     "output_type": "stream",
     "text": [
      "Original Df is \n",
      "   First Score  Second Score  Third Score\n",
      "0        100.0          30.0          NaN\n",
      "1         90.0          45.0         40.0\n",
      "2          NaN          56.0         80.0\n",
      "3         95.0           NaN         98.0\n",
      "   First Score  Second Score  Third Score\n",
      "1         90.0          45.0         40.0\n"
     ]
    }
   ],
   "source": [
    "dic = {'First Score':[100, 90, np.nan, 95], \n",
    "        'Second Score': [30, 45, 56, np.nan], \n",
    "        'Third Score':[np.nan, 40, 80, 98]} \n",
    "df=pd.DataFrame(dic)\n",
    "print(\"Original Df is \\n{}\".format(df))\n",
    "print(df.dropna()) # it will drop all rows which contains nan.\n"
   ]
  },
  {
   "cell_type": "code",
   "execution_count": 228,
   "metadata": {},
   "outputs": [
    {
     "name": "stdout",
     "output_type": "stream",
     "text": [
      "Empty DataFrame\n",
      "Columns: []\n",
      "Index: [0, 1, 2, 3]\n"
     ]
    }
   ],
   "source": [
    "print(df.dropna(axis=1))"
   ]
  },
  {
   "cell_type": "code",
   "execution_count": 229,
   "metadata": {},
   "outputs": [
    {
     "name": "stdout",
     "output_type": "stream",
     "text": [
      "   First Score  Second Score  Third Score\n",
      "1         90.0          45.0         40.0\n"
     ]
    }
   ],
   "source": [
    "print(df.dropna(axis=0))"
   ]
  },
  {
   "cell_type": "code",
   "execution_count": 230,
   "metadata": {},
   "outputs": [
    {
     "name": "stdout",
     "output_type": "stream",
     "text": [
      "  First Score Second Score Third Score\n",
      "0         100           30     Missing\n",
      "1          90           45          40\n",
      "2     Missing           56          80\n",
      "3          95      Missing          98\n"
     ]
    }
   ],
   "source": [
    "print(df.fillna('Missing'))"
   ]
  },
  {
   "cell_type": "code",
   "execution_count": 231,
   "metadata": {},
   "outputs": [
    {
     "data": {
      "text/html": [
       "<div>\n",
       "<style scoped>\n",
       "    .dataframe tbody tr th:only-of-type {\n",
       "        vertical-align: middle;\n",
       "    }\n",
       "\n",
       "    .dataframe tbody tr th {\n",
       "        vertical-align: top;\n",
       "    }\n",
       "\n",
       "    .dataframe thead th {\n",
       "        text-align: right;\n",
       "    }\n",
       "</style>\n",
       "<table border=\"1\" class=\"dataframe\">\n",
       "  <thead>\n",
       "    <tr style=\"text-align: right;\">\n",
       "      <th></th>\n",
       "      <th>First Score</th>\n",
       "      <th>Second Score</th>\n",
       "      <th>Third Score</th>\n",
       "    </tr>\n",
       "  </thead>\n",
       "  <tbody>\n",
       "    <tr>\n",
       "      <th>0</th>\n",
       "      <td>100.0</td>\n",
       "      <td>30.0</td>\n",
       "      <td>NaN</td>\n",
       "    </tr>\n",
       "    <tr>\n",
       "      <th>1</th>\n",
       "      <td>90.0</td>\n",
       "      <td>45.0</td>\n",
       "      <td>40.0</td>\n",
       "    </tr>\n",
       "    <tr>\n",
       "      <th>2</th>\n",
       "      <td>NaN</td>\n",
       "      <td>56.0</td>\n",
       "      <td>80.0</td>\n",
       "    </tr>\n",
       "    <tr>\n",
       "      <th>3</th>\n",
       "      <td>95.0</td>\n",
       "      <td>NaN</td>\n",
       "      <td>98.0</td>\n",
       "    </tr>\n",
       "  </tbody>\n",
       "</table>\n",
       "</div>"
      ],
      "text/plain": [
       "   First Score  Second Score  Third Score\n",
       "0        100.0          30.0          NaN\n",
       "1         90.0          45.0         40.0\n",
       "2          NaN          56.0         80.0\n",
       "3         95.0           NaN         98.0"
      ]
     },
     "execution_count": 231,
     "metadata": {},
     "output_type": "execute_result"
    }
   ],
   "source": [
    "df.replace('Missing',np.nan)"
   ]
  },
  {
   "cell_type": "code",
   "execution_count": 232,
   "metadata": {},
   "outputs": [
    {
     "data": {
      "text/html": [
       "<div>\n",
       "<style scoped>\n",
       "    .dataframe tbody tr th:only-of-type {\n",
       "        vertical-align: middle;\n",
       "    }\n",
       "\n",
       "    .dataframe tbody tr th {\n",
       "        vertical-align: top;\n",
       "    }\n",
       "\n",
       "    .dataframe thead th {\n",
       "        text-align: right;\n",
       "    }\n",
       "</style>\n",
       "<table border=\"1\" class=\"dataframe\">\n",
       "  <thead>\n",
       "    <tr style=\"text-align: right;\">\n",
       "      <th></th>\n",
       "      <th>First Score</th>\n",
       "      <th>Second Score</th>\n",
       "      <th>Third Score</th>\n",
       "    </tr>\n",
       "  </thead>\n",
       "  <tbody>\n",
       "    <tr>\n",
       "      <th>0</th>\n",
       "      <td>100.0</td>\n",
       "      <td>30.000000</td>\n",
       "      <td>72.666667</td>\n",
       "    </tr>\n",
       "    <tr>\n",
       "      <th>1</th>\n",
       "      <td>90.0</td>\n",
       "      <td>45.000000</td>\n",
       "      <td>40.000000</td>\n",
       "    </tr>\n",
       "    <tr>\n",
       "      <th>2</th>\n",
       "      <td>95.0</td>\n",
       "      <td>56.000000</td>\n",
       "      <td>80.000000</td>\n",
       "    </tr>\n",
       "    <tr>\n",
       "      <th>3</th>\n",
       "      <td>95.0</td>\n",
       "      <td>43.666667</td>\n",
       "      <td>98.000000</td>\n",
       "    </tr>\n",
       "  </tbody>\n",
       "</table>\n",
       "</div>"
      ],
      "text/plain": [
       "   First Score  Second Score  Third Score\n",
       "0        100.0     30.000000    72.666667\n",
       "1         90.0     45.000000    40.000000\n",
       "2         95.0     56.000000    80.000000\n",
       "3         95.0     43.666667    98.000000"
      ]
     },
     "execution_count": 232,
     "metadata": {},
     "output_type": "execute_result"
    }
   ],
   "source": [
    "df.fillna(df.mean()) # it will fill missing data with their mean value column-wise."
   ]
  },
  {
   "cell_type": "markdown",
   "metadata": {},
   "source": [
    "<h3>2.7. Filer, Sort and Group by Functions</h3>"
   ]
  },
  {
   "cell_type": "code",
   "execution_count": 233,
   "metadata": {},
   "outputs": [
    {
     "data": {
      "text/html": [
       "<div>\n",
       "<style scoped>\n",
       "    .dataframe tbody tr th:only-of-type {\n",
       "        vertical-align: middle;\n",
       "    }\n",
       "\n",
       "    .dataframe tbody tr th {\n",
       "        vertical-align: top;\n",
       "    }\n",
       "\n",
       "    .dataframe thead th {\n",
       "        text-align: right;\n",
       "    }\n",
       "</style>\n",
       "<table border=\"1\" class=\"dataframe\">\n",
       "  <thead>\n",
       "    <tr style=\"text-align: right;\">\n",
       "      <th></th>\n",
       "      <th>user_id</th>\n",
       "      <th>recipe_id</th>\n",
       "      <th>date</th>\n",
       "      <th>rating</th>\n",
       "      <th>u</th>\n",
       "      <th>i</th>\n",
       "    </tr>\n",
       "  </thead>\n",
       "  <tbody>\n",
       "    <tr>\n",
       "      <th>0</th>\n",
       "      <td>8937</td>\n",
       "      <td>44551</td>\n",
       "      <td>12/23/2005</td>\n",
       "      <td>4</td>\n",
       "      <td>2</td>\n",
       "      <td>173538</td>\n",
       "    </tr>\n",
       "    <tr>\n",
       "      <th>1</th>\n",
       "      <td>56680</td>\n",
       "      <td>126118</td>\n",
       "      <td>10/7/2006</td>\n",
       "      <td>4</td>\n",
       "      <td>16</td>\n",
       "      <td>177847</td>\n",
       "    </tr>\n",
       "    <tr>\n",
       "      <th>2</th>\n",
       "      <td>349752</td>\n",
       "      <td>219596</td>\n",
       "      <td>4/12/2008</td>\n",
       "      <td>0</td>\n",
       "      <td>26</td>\n",
       "      <td>89896</td>\n",
       "    </tr>\n",
       "    <tr>\n",
       "      <th>3</th>\n",
       "      <td>628951</td>\n",
       "      <td>82783</td>\n",
       "      <td>11/13/2007</td>\n",
       "      <td>2</td>\n",
       "      <td>45</td>\n",
       "      <td>172637</td>\n",
       "    </tr>\n",
       "    <tr>\n",
       "      <th>4</th>\n",
       "      <td>92816</td>\n",
       "      <td>435013</td>\n",
       "      <td>7/31/2013</td>\n",
       "      <td>3</td>\n",
       "      <td>52</td>\n",
       "      <td>177935</td>\n",
       "    </tr>\n",
       "    <tr>\n",
       "      <th>5</th>\n",
       "      <td>280271</td>\n",
       "      <td>228179</td>\n",
       "      <td>7/29/2007</td>\n",
       "      <td>5</td>\n",
       "      <td>55</td>\n",
       "      <td>178179</td>\n",
       "    </tr>\n",
       "    <tr>\n",
       "      <th>6</th>\n",
       "      <td>345569</td>\n",
       "      <td>186470</td>\n",
       "      <td>10/5/2008</td>\n",
       "      <td>0</td>\n",
       "      <td>57</td>\n",
       "      <td>177482</td>\n",
       "    </tr>\n",
       "    <tr>\n",
       "      <th>7</th>\n",
       "      <td>724516</td>\n",
       "      <td>298748</td>\n",
       "      <td>5/7/2011</td>\n",
       "      <td>5</td>\n",
       "      <td>71</td>\n",
       "      <td>177749</td>\n",
       "    </tr>\n",
       "    <tr>\n",
       "      <th>8</th>\n",
       "      <td>176615</td>\n",
       "      <td>118119</td>\n",
       "      <td>10/27/2006</td>\n",
       "      <td>0</td>\n",
       "      <td>82</td>\n",
       "      <td>178250</td>\n",
       "    </tr>\n",
       "    <tr>\n",
       "      <th>9</th>\n",
       "      <td>56112</td>\n",
       "      <td>166712</td>\n",
       "      <td>8/2/2007</td>\n",
       "      <td>5</td>\n",
       "      <td>89</td>\n",
       "      <td>177821</td>\n",
       "    </tr>\n",
       "    <tr>\n",
       "      <th>10</th>\n",
       "      <td>537179</td>\n",
       "      <td>78641</td>\n",
       "      <td>11/20/2009</td>\n",
       "      <td>4</td>\n",
       "      <td>91</td>\n",
       "      <td>177805</td>\n",
       "    </tr>\n",
       "    <tr>\n",
       "      <th>11</th>\n",
       "      <td>222478</td>\n",
       "      <td>437144</td>\n",
       "      <td>11/9/2010</td>\n",
       "      <td>5</td>\n",
       "      <td>97</td>\n",
       "      <td>178178</td>\n",
       "    </tr>\n",
       "    <tr>\n",
       "      <th>12</th>\n",
       "      <td>22898</td>\n",
       "      <td>65976</td>\n",
       "      <td>12/14/2003</td>\n",
       "      <td>5</td>\n",
       "      <td>101</td>\n",
       "      <td>173681</td>\n",
       "    </tr>\n",
       "    <tr>\n",
       "      <th>13</th>\n",
       "      <td>857489</td>\n",
       "      <td>311630</td>\n",
       "      <td>9/20/2009</td>\n",
       "      <td>5</td>\n",
       "      <td>120</td>\n",
       "      <td>178097</td>\n",
       "    </tr>\n",
       "    <tr>\n",
       "      <th>14</th>\n",
       "      <td>1056692</td>\n",
       "      <td>312579</td>\n",
       "      <td>8/31/2013</td>\n",
       "      <td>4</td>\n",
       "      <td>122</td>\n",
       "      <td>177486</td>\n",
       "    </tr>\n",
       "  </tbody>\n",
       "</table>\n",
       "</div>"
      ],
      "text/plain": [
       "    user_id  recipe_id        date  rating    u       i\n",
       "0      8937      44551  12/23/2005       4    2  173538\n",
       "1     56680     126118   10/7/2006       4   16  177847\n",
       "2    349752     219596   4/12/2008       0   26   89896\n",
       "3    628951      82783  11/13/2007       2   45  172637\n",
       "4     92816     435013   7/31/2013       3   52  177935\n",
       "5    280271     228179   7/29/2007       5   55  178179\n",
       "6    345569     186470   10/5/2008       0   57  177482\n",
       "7    724516     298748    5/7/2011       5   71  177749\n",
       "8    176615     118119  10/27/2006       0   82  178250\n",
       "9     56112     166712    8/2/2007       5   89  177821\n",
       "10   537179      78641  11/20/2009       4   91  177805\n",
       "11   222478     437144   11/9/2010       5   97  178178\n",
       "12    22898      65976  12/14/2003       5  101  173681\n",
       "13   857489     311630   9/20/2009       5  120  178097\n",
       "14  1056692     312579   8/31/2013       4  122  177486"
      ]
     },
     "execution_count": 233,
     "metadata": {},
     "output_type": "execute_result"
    }
   ],
   "source": [
    "df=pd.read_csv('datasets//dataset.csv')\n",
    "df.head(15)"
   ]
  },
  {
   "cell_type": "code",
   "execution_count": 234,
   "metadata": {},
   "outputs": [
    {
     "data": {
      "text/html": [
       "<div>\n",
       "<style scoped>\n",
       "    .dataframe tbody tr th:only-of-type {\n",
       "        vertical-align: middle;\n",
       "    }\n",
       "\n",
       "    .dataframe tbody tr th {\n",
       "        vertical-align: top;\n",
       "    }\n",
       "\n",
       "    .dataframe thead th {\n",
       "        text-align: right;\n",
       "    }\n",
       "</style>\n",
       "<table border=\"1\" class=\"dataframe\">\n",
       "  <thead>\n",
       "    <tr style=\"text-align: right;\">\n",
       "      <th></th>\n",
       "      <th>user_id</th>\n",
       "      <th>recipe_id</th>\n",
       "      <th>date</th>\n",
       "      <th>rating</th>\n",
       "      <th>u</th>\n",
       "      <th>i</th>\n",
       "    </tr>\n",
       "  </thead>\n",
       "  <tbody>\n",
       "    <tr>\n",
       "      <th>4</th>\n",
       "      <td>92816</td>\n",
       "      <td>435013</td>\n",
       "      <td>7/31/2013</td>\n",
       "      <td>3</td>\n",
       "      <td>52</td>\n",
       "      <td>177935</td>\n",
       "    </tr>\n",
       "    <tr>\n",
       "      <th>57</th>\n",
       "      <td>310518</td>\n",
       "      <td>298141</td>\n",
       "      <td>4/29/2008</td>\n",
       "      <td>3</td>\n",
       "      <td>314</td>\n",
       "      <td>159728</td>\n",
       "    </tr>\n",
       "    <tr>\n",
       "      <th>106</th>\n",
       "      <td>464080</td>\n",
       "      <td>171138</td>\n",
       "      <td>1/19/2012</td>\n",
       "      <td>3</td>\n",
       "      <td>498</td>\n",
       "      <td>177711</td>\n",
       "    </tr>\n",
       "    <tr>\n",
       "      <th>127</th>\n",
       "      <td>863904</td>\n",
       "      <td>387364</td>\n",
       "      <td>9/2/2009</td>\n",
       "      <td>3</td>\n",
       "      <td>559</td>\n",
       "      <td>70544</td>\n",
       "    </tr>\n",
       "    <tr>\n",
       "      <th>134</th>\n",
       "      <td>371105</td>\n",
       "      <td>318432</td>\n",
       "      <td>9/3/2008</td>\n",
       "      <td>3</td>\n",
       "      <td>589</td>\n",
       "      <td>88159</td>\n",
       "    </tr>\n",
       "    <tr>\n",
       "      <th>140</th>\n",
       "      <td>1967997</td>\n",
       "      <td>431022</td>\n",
       "      <td>10/24/2012</td>\n",
       "      <td>3</td>\n",
       "      <td>601</td>\n",
       "      <td>164245</td>\n",
       "    </tr>\n",
       "    <tr>\n",
       "      <th>194</th>\n",
       "      <td>54716</td>\n",
       "      <td>149739</td>\n",
       "      <td>1/7/2007</td>\n",
       "      <td>3</td>\n",
       "      <td>724</td>\n",
       "      <td>171048</td>\n",
       "    </tr>\n",
       "    <tr>\n",
       "      <th>200</th>\n",
       "      <td>477439</td>\n",
       "      <td>393783</td>\n",
       "      <td>3/14/2010</td>\n",
       "      <td>3</td>\n",
       "      <td>737</td>\n",
       "      <td>154483</td>\n",
       "    </tr>\n",
       "    <tr>\n",
       "      <th>221</th>\n",
       "      <td>634323</td>\n",
       "      <td>320079</td>\n",
       "      <td>9/9/2008</td>\n",
       "      <td>3</td>\n",
       "      <td>815</td>\n",
       "      <td>176996</td>\n",
       "    </tr>\n",
       "    <tr>\n",
       "      <th>237</th>\n",
       "      <td>68884</td>\n",
       "      <td>110741</td>\n",
       "      <td>4/8/2006</td>\n",
       "      <td>3</td>\n",
       "      <td>852</td>\n",
       "      <td>167172</td>\n",
       "    </tr>\n",
       "  </tbody>\n",
       "</table>\n",
       "</div>"
      ],
      "text/plain": [
       "     user_id  recipe_id        date  rating    u       i\n",
       "4      92816     435013   7/31/2013       3   52  177935\n",
       "57    310518     298141   4/29/2008       3  314  159728\n",
       "106   464080     171138   1/19/2012       3  498  177711\n",
       "127   863904     387364    9/2/2009       3  559   70544\n",
       "134   371105     318432    9/3/2008       3  589   88159\n",
       "140  1967997     431022  10/24/2012       3  601  164245\n",
       "194    54716     149739    1/7/2007       3  724  171048\n",
       "200   477439     393783   3/14/2010       3  737  154483\n",
       "221   634323     320079    9/9/2008       3  815  176996\n",
       "237    68884     110741    4/8/2006       3  852  167172"
      ]
     },
     "execution_count": 234,
     "metadata": {},
     "output_type": "execute_result"
    }
   ],
   "source": [
    "# It will return those rows whose ratings is 3. and limit records to first 10 only.\n",
    "df[df['rating']==3].head(10)"
   ]
  },
  {
   "cell_type": "code",
   "execution_count": 235,
   "metadata": {},
   "outputs": [
    {
     "data": {
      "text/html": [
       "<div>\n",
       "<style scoped>\n",
       "    .dataframe tbody tr th:only-of-type {\n",
       "        vertical-align: middle;\n",
       "    }\n",
       "\n",
       "    .dataframe tbody tr th {\n",
       "        vertical-align: top;\n",
       "    }\n",
       "\n",
       "    .dataframe thead th {\n",
       "        text-align: right;\n",
       "    }\n",
       "</style>\n",
       "<table border=\"1\" class=\"dataframe\">\n",
       "  <thead>\n",
       "    <tr style=\"text-align: right;\">\n",
       "      <th></th>\n",
       "      <th>user_id</th>\n",
       "      <th>recipe_id</th>\n",
       "      <th>date</th>\n",
       "      <th>rating</th>\n",
       "      <th>u</th>\n",
       "      <th>i</th>\n",
       "    </tr>\n",
       "  </thead>\n",
       "  <tbody>\n",
       "    <tr>\n",
       "      <th>7505</th>\n",
       "      <td>215969</td>\n",
       "      <td>118696</td>\n",
       "      <td>1/1/2006</td>\n",
       "      <td>4</td>\n",
       "      <td>13305</td>\n",
       "      <td>155702</td>\n",
       "    </tr>\n",
       "    <tr>\n",
       "      <th>4234</th>\n",
       "      <td>62866</td>\n",
       "      <td>125882</td>\n",
       "      <td>1/1/2006</td>\n",
       "      <td>5</td>\n",
       "      <td>11777</td>\n",
       "      <td>82738</td>\n",
       "    </tr>\n",
       "    <tr>\n",
       "      <th>6509</th>\n",
       "      <td>8527</td>\n",
       "      <td>85331</td>\n",
       "      <td>1/1/2006</td>\n",
       "      <td>5</td>\n",
       "      <td>11445</td>\n",
       "      <td>43786</td>\n",
       "    </tr>\n",
       "    <tr>\n",
       "      <th>8283</th>\n",
       "      <td>95858</td>\n",
       "      <td>135483</td>\n",
       "      <td>1/1/2006</td>\n",
       "      <td>5</td>\n",
       "      <td>14800</td>\n",
       "      <td>164686</td>\n",
       "    </tr>\n",
       "    <tr>\n",
       "      <th>2092</th>\n",
       "      <td>37502</td>\n",
       "      <td>64424</td>\n",
       "      <td>1/1/2006</td>\n",
       "      <td>5</td>\n",
       "      <td>4208</td>\n",
       "      <td>98005</td>\n",
       "    </tr>\n",
       "    <tr>\n",
       "      <th>911</th>\n",
       "      <td>98467</td>\n",
       "      <td>133270</td>\n",
       "      <td>1/1/2006</td>\n",
       "      <td>5</td>\n",
       "      <td>2193</td>\n",
       "      <td>109942</td>\n",
       "    </tr>\n",
       "    <tr>\n",
       "      <th>1002</th>\n",
       "      <td>42720</td>\n",
       "      <td>91894</td>\n",
       "      <td>1/1/2005</td>\n",
       "      <td>5</td>\n",
       "      <td>2334</td>\n",
       "      <td>166245</td>\n",
       "    </tr>\n",
       "    <tr>\n",
       "      <th>7351</th>\n",
       "      <td>62474</td>\n",
       "      <td>99712</td>\n",
       "      <td>1/1/2005</td>\n",
       "      <td>5</td>\n",
       "      <td>12982</td>\n",
       "      <td>109510</td>\n",
       "    </tr>\n",
       "    <tr>\n",
       "      <th>2800</th>\n",
       "      <td>166746</td>\n",
       "      <td>102309</td>\n",
       "      <td>1/1/2005</td>\n",
       "      <td>5</td>\n",
       "      <td>5291</td>\n",
       "      <td>150945</td>\n",
       "    </tr>\n",
       "    <tr>\n",
       "      <th>10182</th>\n",
       "      <td>37909</td>\n",
       "      <td>95522</td>\n",
       "      <td>1/1/2005</td>\n",
       "      <td>4</td>\n",
       "      <td>18797</td>\n",
       "      <td>131052</td>\n",
       "    </tr>\n",
       "  </tbody>\n",
       "</table>\n",
       "</div>"
      ],
      "text/plain": [
       "       user_id  recipe_id      date  rating      u       i\n",
       "7505    215969     118696  1/1/2006       4  13305  155702\n",
       "4234     62866     125882  1/1/2006       5  11777   82738\n",
       "6509      8527      85331  1/1/2006       5  11445   43786\n",
       "8283     95858     135483  1/1/2006       5  14800  164686\n",
       "2092     37502      64424  1/1/2006       5   4208   98005\n",
       "911      98467     133270  1/1/2006       5   2193  109942\n",
       "1002     42720      91894  1/1/2005       5   2334  166245\n",
       "7351     62474      99712  1/1/2005       5  12982  109510\n",
       "2800    166746     102309  1/1/2005       5   5291  150945\n",
       "10182    37909      95522  1/1/2005       4  18797  131052"
      ]
     },
     "execution_count": 235,
     "metadata": {},
     "output_type": "execute_result"
    }
   ],
   "source": [
    "# it will sort values of date and return last 10 rows in Descending Order.\n",
    "df.sort_values('date',ascending=False).tail(10)"
   ]
  },
  {
   "cell_type": "code",
   "execution_count": 236,
   "metadata": {},
   "outputs": [
    {
     "data": {
      "text/html": [
       "<div>\n",
       "<style scoped>\n",
       "    .dataframe tbody tr th:only-of-type {\n",
       "        vertical-align: middle;\n",
       "    }\n",
       "\n",
       "    .dataframe tbody tr th {\n",
       "        vertical-align: top;\n",
       "    }\n",
       "\n",
       "    .dataframe thead th {\n",
       "        text-align: right;\n",
       "    }\n",
       "</style>\n",
       "<table border=\"1\" class=\"dataframe\">\n",
       "  <thead>\n",
       "    <tr style=\"text-align: right;\">\n",
       "      <th></th>\n",
       "      <th>user_id</th>\n",
       "      <th>recipe_id</th>\n",
       "      <th>date</th>\n",
       "      <th>rating</th>\n",
       "      <th>u</th>\n",
       "      <th>i</th>\n",
       "    </tr>\n",
       "  </thead>\n",
       "  <tbody>\n",
       "    <tr>\n",
       "      <th>10182</th>\n",
       "      <td>37909</td>\n",
       "      <td>95522</td>\n",
       "      <td>1/1/2005</td>\n",
       "      <td>4</td>\n",
       "      <td>18797</td>\n",
       "      <td>131052</td>\n",
       "    </tr>\n",
       "    <tr>\n",
       "      <th>1002</th>\n",
       "      <td>42720</td>\n",
       "      <td>91894</td>\n",
       "      <td>1/1/2005</td>\n",
       "      <td>5</td>\n",
       "      <td>2334</td>\n",
       "      <td>166245</td>\n",
       "    </tr>\n",
       "    <tr>\n",
       "      <th>2800</th>\n",
       "      <td>166746</td>\n",
       "      <td>102309</td>\n",
       "      <td>1/1/2005</td>\n",
       "      <td>5</td>\n",
       "      <td>5291</td>\n",
       "      <td>150945</td>\n",
       "    </tr>\n",
       "    <tr>\n",
       "      <th>7351</th>\n",
       "      <td>62474</td>\n",
       "      <td>99712</td>\n",
       "      <td>1/1/2005</td>\n",
       "      <td>5</td>\n",
       "      <td>12982</td>\n",
       "      <td>109510</td>\n",
       "    </tr>\n",
       "    <tr>\n",
       "      <th>7505</th>\n",
       "      <td>215969</td>\n",
       "      <td>118696</td>\n",
       "      <td>1/1/2006</td>\n",
       "      <td>4</td>\n",
       "      <td>13305</td>\n",
       "      <td>155702</td>\n",
       "    </tr>\n",
       "    <tr>\n",
       "      <th>911</th>\n",
       "      <td>98467</td>\n",
       "      <td>133270</td>\n",
       "      <td>1/1/2006</td>\n",
       "      <td>5</td>\n",
       "      <td>2193</td>\n",
       "      <td>109942</td>\n",
       "    </tr>\n",
       "    <tr>\n",
       "      <th>2092</th>\n",
       "      <td>37502</td>\n",
       "      <td>64424</td>\n",
       "      <td>1/1/2006</td>\n",
       "      <td>5</td>\n",
       "      <td>4208</td>\n",
       "      <td>98005</td>\n",
       "    </tr>\n",
       "    <tr>\n",
       "      <th>4234</th>\n",
       "      <td>62866</td>\n",
       "      <td>125882</td>\n",
       "      <td>1/1/2006</td>\n",
       "      <td>5</td>\n",
       "      <td>11777</td>\n",
       "      <td>82738</td>\n",
       "    </tr>\n",
       "    <tr>\n",
       "      <th>6509</th>\n",
       "      <td>8527</td>\n",
       "      <td>85331</td>\n",
       "      <td>1/1/2006</td>\n",
       "      <td>5</td>\n",
       "      <td>11445</td>\n",
       "      <td>43786</td>\n",
       "    </tr>\n",
       "    <tr>\n",
       "      <th>7846</th>\n",
       "      <td>124481</td>\n",
       "      <td>147661</td>\n",
       "      <td>1/1/2006</td>\n",
       "      <td>5</td>\n",
       "      <td>13919</td>\n",
       "      <td>175506</td>\n",
       "    </tr>\n",
       "  </tbody>\n",
       "</table>\n",
       "</div>"
      ],
      "text/plain": [
       "       user_id  recipe_id      date  rating      u       i\n",
       "10182    37909      95522  1/1/2005       4  18797  131052\n",
       "1002     42720      91894  1/1/2005       5   2334  166245\n",
       "2800    166746     102309  1/1/2005       5   5291  150945\n",
       "7351     62474      99712  1/1/2005       5  12982  109510\n",
       "7505    215969     118696  1/1/2006       4  13305  155702\n",
       "911      98467     133270  1/1/2006       5   2193  109942\n",
       "2092     37502      64424  1/1/2006       5   4208   98005\n",
       "4234     62866     125882  1/1/2006       5  11777   82738\n",
       "6509      8527      85331  1/1/2006       5  11445   43786\n",
       "7846    124481     147661  1/1/2006       5  13919  175506"
      ]
     },
     "execution_count": 236,
     "metadata": {},
     "output_type": "execute_result"
    }
   ],
   "source": [
    "# Sort values on basis of more than 1 attribute\n",
    "df.sort_values(['date','rating'],ascending=[True,True]).head(10)"
   ]
  },
  {
   "cell_type": "code",
   "execution_count": 237,
   "metadata": {},
   "outputs": [
    {
     "data": {
      "text/html": [
       "<div>\n",
       "<style scoped>\n",
       "    .dataframe tbody tr th:only-of-type {\n",
       "        vertical-align: middle;\n",
       "    }\n",
       "\n",
       "    .dataframe tbody tr th {\n",
       "        vertical-align: top;\n",
       "    }\n",
       "\n",
       "    .dataframe thead th {\n",
       "        text-align: right;\n",
       "    }\n",
       "</style>\n",
       "<table border=\"1\" class=\"dataframe\">\n",
       "  <thead>\n",
       "    <tr style=\"text-align: right;\">\n",
       "      <th></th>\n",
       "      <th>user_id</th>\n",
       "      <th>recipe_id</th>\n",
       "      <th>rating</th>\n",
       "      <th>u</th>\n",
       "      <th>i</th>\n",
       "    </tr>\n",
       "    <tr>\n",
       "      <th>date</th>\n",
       "      <th></th>\n",
       "      <th></th>\n",
       "      <th></th>\n",
       "      <th></th>\n",
       "      <th></th>\n",
       "    </tr>\n",
       "  </thead>\n",
       "  <tbody>\n",
       "    <tr>\n",
       "      <th>9/9/2004</th>\n",
       "      <td>4</td>\n",
       "      <td>4</td>\n",
       "      <td>4</td>\n",
       "      <td>4</td>\n",
       "      <td>4</td>\n",
       "    </tr>\n",
       "    <tr>\n",
       "      <th>9/9/2005</th>\n",
       "      <td>1</td>\n",
       "      <td>1</td>\n",
       "      <td>1</td>\n",
       "      <td>1</td>\n",
       "      <td>1</td>\n",
       "    </tr>\n",
       "    <tr>\n",
       "      <th>9/9/2006</th>\n",
       "      <td>3</td>\n",
       "      <td>3</td>\n",
       "      <td>3</td>\n",
       "      <td>3</td>\n",
       "      <td>3</td>\n",
       "    </tr>\n",
       "    <tr>\n",
       "      <th>9/9/2007</th>\n",
       "      <td>3</td>\n",
       "      <td>3</td>\n",
       "      <td>3</td>\n",
       "      <td>3</td>\n",
       "      <td>3</td>\n",
       "    </tr>\n",
       "    <tr>\n",
       "      <th>9/9/2008</th>\n",
       "      <td>8</td>\n",
       "      <td>8</td>\n",
       "      <td>8</td>\n",
       "      <td>8</td>\n",
       "      <td>8</td>\n",
       "    </tr>\n",
       "    <tr>\n",
       "      <th>9/9/2009</th>\n",
       "      <td>3</td>\n",
       "      <td>3</td>\n",
       "      <td>3</td>\n",
       "      <td>3</td>\n",
       "      <td>3</td>\n",
       "    </tr>\n",
       "    <tr>\n",
       "      <th>9/9/2011</th>\n",
       "      <td>3</td>\n",
       "      <td>3</td>\n",
       "      <td>3</td>\n",
       "      <td>3</td>\n",
       "      <td>3</td>\n",
       "    </tr>\n",
       "    <tr>\n",
       "      <th>9/9/2012</th>\n",
       "      <td>2</td>\n",
       "      <td>2</td>\n",
       "      <td>2</td>\n",
       "      <td>2</td>\n",
       "      <td>2</td>\n",
       "    </tr>\n",
       "    <tr>\n",
       "      <th>9/9/2015</th>\n",
       "      <td>2</td>\n",
       "      <td>2</td>\n",
       "      <td>2</td>\n",
       "      <td>2</td>\n",
       "      <td>2</td>\n",
       "    </tr>\n",
       "    <tr>\n",
       "      <th>9/9/2018</th>\n",
       "      <td>1</td>\n",
       "      <td>1</td>\n",
       "      <td>1</td>\n",
       "      <td>1</td>\n",
       "      <td>1</td>\n",
       "    </tr>\n",
       "  </tbody>\n",
       "</table>\n",
       "</div>"
      ],
      "text/plain": [
       "          user_id  recipe_id  rating  u  i\n",
       "date                                      \n",
       "9/9/2004        4          4       4  4  4\n",
       "9/9/2005        1          1       1  1  1\n",
       "9/9/2006        3          3       3  3  3\n",
       "9/9/2007        3          3       3  3  3\n",
       "9/9/2008        8          8       8  8  8\n",
       "9/9/2009        3          3       3  3  3\n",
       "9/9/2011        3          3       3  3  3\n",
       "9/9/2012        2          2       2  2  2\n",
       "9/9/2015        2          2       2  2  2\n",
       "9/9/2018        1          1       1  1  1"
      ]
     },
     "execution_count": 237,
     "metadata": {},
     "output_type": "execute_result"
    }
   ],
   "source": [
    "# Group by: It will group by date and count all records entries on that date.\n",
    "df.groupby('date').count().tail(10)"
   ]
  },
  {
   "cell_type": "markdown",
   "metadata": {},
   "source": [
    "<h3>2.8. Column Operations</h3>"
   ]
  },
  {
   "cell_type": "code",
   "execution_count": 238,
   "metadata": {},
   "outputs": [
    {
     "data": {
      "text/plain": [
       "0    4\n",
       "1    4\n",
       "2    0\n",
       "3    2\n",
       "4    3\n",
       "5    5\n",
       "6    0\n",
       "7    5\n",
       "8    0\n",
       "9    5\n",
       "Name: rating, dtype: int64"
      ]
     },
     "execution_count": 238,
     "metadata": {},
     "output_type": "execute_result"
    }
   ],
   "source": [
    "# it will show the first 10 records of the ratings column\n",
    "df['rating'].head(10)"
   ]
  },
  {
   "cell_type": "code",
   "execution_count": 239,
   "metadata": {},
   "outputs": [
    {
     "data": {
      "text/plain": [
       "0    16\n",
       "1    16\n",
       "2     0\n",
       "3     4\n",
       "4     9\n",
       "5    25\n",
       "6     0\n",
       "7    25\n",
       "8     0\n",
       "9    25\n",
       "Name: MultRating, dtype: int64"
      ]
     },
     "execution_count": 239,
     "metadata": {},
     "output_type": "execute_result"
    }
   ],
   "source": [
    "# We can Create a new column and can multiply,add columns and save result in it.\n",
    "df['MultRating']=df['rating']*df['rating']\n",
    "df['MultRating'].head(10)"
   ]
  },
  {
   "cell_type": "code",
   "execution_count": 240,
   "metadata": {},
   "outputs": [
    {
     "data": {
      "text/plain": [
       "0    False\n",
       "1    False\n",
       "2    False\n",
       "3    False\n",
       "4    False\n",
       "5     True\n",
       "6    False\n",
       "7     True\n",
       "8    False\n",
       "9     True\n",
       "Name: MultRating, dtype: bool"
      ]
     },
     "execution_count": 240,
     "metadata": {},
     "output_type": "execute_result"
    }
   ],
   "source": [
    "(df['MultRating']>16).head(10)"
   ]
  },
  {
   "cell_type": "code",
   "execution_count": 241,
   "metadata": {},
   "outputs": [],
   "source": [
    "# it will delete multRating column now.\n",
    "del df['MultRating']"
   ]
  },
  {
   "cell_type": "code",
   "execution_count": 242,
   "metadata": {},
   "outputs": [
    {
     "data": {
      "text/html": [
       "<div>\n",
       "<style scoped>\n",
       "    .dataframe tbody tr th:only-of-type {\n",
       "        vertical-align: middle;\n",
       "    }\n",
       "\n",
       "    .dataframe tbody tr th {\n",
       "        vertical-align: top;\n",
       "    }\n",
       "\n",
       "    .dataframe thead th {\n",
       "        text-align: right;\n",
       "    }\n",
       "</style>\n",
       "<table border=\"1\" class=\"dataframe\">\n",
       "  <thead>\n",
       "    <tr style=\"text-align: right;\">\n",
       "      <th></th>\n",
       "      <th>user_id</th>\n",
       "      <th>NewCol</th>\n",
       "      <th>recipe_id</th>\n",
       "      <th>date</th>\n",
       "      <th>rating</th>\n",
       "      <th>u</th>\n",
       "      <th>i</th>\n",
       "    </tr>\n",
       "  </thead>\n",
       "  <tbody>\n",
       "    <tr>\n",
       "      <th>0</th>\n",
       "      <td>8937</td>\n",
       "      <td>16</td>\n",
       "      <td>44551</td>\n",
       "      <td>12/23/2005</td>\n",
       "      <td>4</td>\n",
       "      <td>2</td>\n",
       "      <td>173538</td>\n",
       "    </tr>\n",
       "    <tr>\n",
       "      <th>1</th>\n",
       "      <td>56680</td>\n",
       "      <td>16</td>\n",
       "      <td>126118</td>\n",
       "      <td>10/7/2006</td>\n",
       "      <td>4</td>\n",
       "      <td>16</td>\n",
       "      <td>177847</td>\n",
       "    </tr>\n",
       "    <tr>\n",
       "      <th>2</th>\n",
       "      <td>349752</td>\n",
       "      <td>0</td>\n",
       "      <td>219596</td>\n",
       "      <td>4/12/2008</td>\n",
       "      <td>0</td>\n",
       "      <td>26</td>\n",
       "      <td>89896</td>\n",
       "    </tr>\n",
       "    <tr>\n",
       "      <th>3</th>\n",
       "      <td>628951</td>\n",
       "      <td>4</td>\n",
       "      <td>82783</td>\n",
       "      <td>11/13/2007</td>\n",
       "      <td>2</td>\n",
       "      <td>45</td>\n",
       "      <td>172637</td>\n",
       "    </tr>\n",
       "    <tr>\n",
       "      <th>4</th>\n",
       "      <td>92816</td>\n",
       "      <td>9</td>\n",
       "      <td>435013</td>\n",
       "      <td>7/31/2013</td>\n",
       "      <td>3</td>\n",
       "      <td>52</td>\n",
       "      <td>177935</td>\n",
       "    </tr>\n",
       "    <tr>\n",
       "      <th>5</th>\n",
       "      <td>280271</td>\n",
       "      <td>25</td>\n",
       "      <td>228179</td>\n",
       "      <td>7/29/2007</td>\n",
       "      <td>5</td>\n",
       "      <td>55</td>\n",
       "      <td>178179</td>\n",
       "    </tr>\n",
       "    <tr>\n",
       "      <th>6</th>\n",
       "      <td>345569</td>\n",
       "      <td>0</td>\n",
       "      <td>186470</td>\n",
       "      <td>10/5/2008</td>\n",
       "      <td>0</td>\n",
       "      <td>57</td>\n",
       "      <td>177482</td>\n",
       "    </tr>\n",
       "    <tr>\n",
       "      <th>7</th>\n",
       "      <td>724516</td>\n",
       "      <td>25</td>\n",
       "      <td>298748</td>\n",
       "      <td>5/7/2011</td>\n",
       "      <td>5</td>\n",
       "      <td>71</td>\n",
       "      <td>177749</td>\n",
       "    </tr>\n",
       "    <tr>\n",
       "      <th>8</th>\n",
       "      <td>176615</td>\n",
       "      <td>0</td>\n",
       "      <td>118119</td>\n",
       "      <td>10/27/2006</td>\n",
       "      <td>0</td>\n",
       "      <td>82</td>\n",
       "      <td>178250</td>\n",
       "    </tr>\n",
       "    <tr>\n",
       "      <th>9</th>\n",
       "      <td>56112</td>\n",
       "      <td>25</td>\n",
       "      <td>166712</td>\n",
       "      <td>8/2/2007</td>\n",
       "      <td>5</td>\n",
       "      <td>89</td>\n",
       "      <td>177821</td>\n",
       "    </tr>\n",
       "  </tbody>\n",
       "</table>\n",
       "</div>"
      ],
      "text/plain": [
       "   user_id  NewCol  recipe_id        date  rating   u       i\n",
       "0     8937      16      44551  12/23/2005       4   2  173538\n",
       "1    56680      16     126118   10/7/2006       4  16  177847\n",
       "2   349752       0     219596   4/12/2008       0  26   89896\n",
       "3   628951       4      82783  11/13/2007       2  45  172637\n",
       "4    92816       9     435013   7/31/2013       3  52  177935\n",
       "5   280271      25     228179   7/29/2007       5  55  178179\n",
       "6   345569       0     186470   10/5/2008       0  57  177482\n",
       "7   724516      25     298748    5/7/2011       5  71  177749\n",
       "8   176615       0     118119  10/27/2006       0  82  178250\n",
       "9    56112      25     166712    8/2/2007       5  89  177821"
      ]
     },
     "execution_count": 242,
     "metadata": {},
     "output_type": "execute_result"
    }
   ],
   "source": [
    "# it will create a new column named NewCol and place it at 1 index means 2nd column and save the results df[rating]*df[rating]\n",
    "df=pd.read_csv('datasets//dataset.csv')\n",
    "df.insert(1,'NewCol',df['rating']*df['rating'])\n",
    "df.head(10)"
   ]
  },
  {
   "cell_type": "markdown",
   "metadata": {},
   "source": [
    "<h3>2.9. Date Operations</h3>"
   ]
  },
  {
   "cell_type": "code",
   "execution_count": 243,
   "metadata": {},
   "outputs": [
    {
     "data": {
      "text/plain": [
       "DatetimeIndex(['2019-09-29', '2019-09-30', '2019-10-01', '2019-10-02',\n",
       "               '2019-10-03', '2019-10-04'],\n",
       "              dtype='datetime64[ns]', freq='D')"
      ]
     },
     "execution_count": 243,
     "metadata": {},
     "output_type": "execute_result"
    }
   ],
   "source": [
    "# it will create indexes of date from 29092019 to next 6 days i.e, till 04102019.\n",
    "dates=pd.date_range('20190929',periods=6)\n",
    "dates"
   ]
  },
  {
   "cell_type": "code",
   "execution_count": 244,
   "metadata": {},
   "outputs": [
    {
     "data": {
      "text/html": [
       "<div>\n",
       "<style scoped>\n",
       "    .dataframe tbody tr th:only-of-type {\n",
       "        vertical-align: middle;\n",
       "    }\n",
       "\n",
       "    .dataframe tbody tr th {\n",
       "        vertical-align: top;\n",
       "    }\n",
       "\n",
       "    .dataframe thead th {\n",
       "        text-align: right;\n",
       "    }\n",
       "</style>\n",
       "<table border=\"1\" class=\"dataframe\">\n",
       "  <thead>\n",
       "    <tr style=\"text-align: right;\">\n",
       "      <th></th>\n",
       "      <th>A</th>\n",
       "    </tr>\n",
       "  </thead>\n",
       "  <tbody>\n",
       "    <tr>\n",
       "      <th>2019-09-29</th>\n",
       "      <td>0.480140</td>\n",
       "    </tr>\n",
       "    <tr>\n",
       "      <th>2019-09-30</th>\n",
       "      <td>0.678219</td>\n",
       "    </tr>\n",
       "    <tr>\n",
       "      <th>2019-10-01</th>\n",
       "      <td>0.191883</td>\n",
       "    </tr>\n",
       "    <tr>\n",
       "      <th>2019-10-02</th>\n",
       "      <td>0.314270</td>\n",
       "    </tr>\n",
       "    <tr>\n",
       "      <th>2019-10-03</th>\n",
       "      <td>0.086386</td>\n",
       "    </tr>\n",
       "    <tr>\n",
       "      <th>2019-10-04</th>\n",
       "      <td>0.490324</td>\n",
       "    </tr>\n",
       "  </tbody>\n",
       "</table>\n",
       "</div>"
      ],
      "text/plain": [
       "                   A\n",
       "2019-09-29  0.480140\n",
       "2019-09-30  0.678219\n",
       "2019-10-01  0.191883\n",
       "2019-10-02  0.314270\n",
       "2019-10-03  0.086386\n",
       "2019-10-04  0.490324"
      ]
     },
     "execution_count": 244,
     "metadata": {},
     "output_type": "execute_result"
    }
   ],
   "source": [
    "\n",
    "df=pd.DataFrame(np.random.rand(6,1),index=dates,columns=list('A'))\n",
    "df"
   ]
  },
  {
   "cell_type": "code",
   "execution_count": 245,
   "metadata": {
    "scrolled": true
   },
   "outputs": [
    {
     "data": {
      "text/html": [
       "<div>\n",
       "<style scoped>\n",
       "    .dataframe tbody tr th:only-of-type {\n",
       "        vertical-align: middle;\n",
       "    }\n",
       "\n",
       "    .dataframe tbody tr th {\n",
       "        vertical-align: top;\n",
       "    }\n",
       "\n",
       "    .dataframe thead th {\n",
       "        text-align: right;\n",
       "    }\n",
       "</style>\n",
       "<table border=\"1\" class=\"dataframe\">\n",
       "  <thead>\n",
       "    <tr style=\"text-align: right;\">\n",
       "      <th></th>\n",
       "      <th>A</th>\n",
       "      <th>B</th>\n",
       "      <th>C</th>\n",
       "      <th>D</th>\n",
       "    </tr>\n",
       "  </thead>\n",
       "  <tbody>\n",
       "    <tr>\n",
       "      <th>1</th>\n",
       "      <td>test</td>\n",
       "      <td>1</td>\n",
       "      <td>2013-01-02</td>\n",
       "      <td>Hello</td>\n",
       "    </tr>\n",
       "    <tr>\n",
       "      <th>2</th>\n",
       "      <td>train</td>\n",
       "      <td>2</td>\n",
       "      <td>2013-01-02</td>\n",
       "      <td>Hello</td>\n",
       "    </tr>\n",
       "  </tbody>\n",
       "</table>\n",
       "</div>"
      ],
      "text/plain": [
       "       A  B          C      D\n",
       "1   test  1 2013-01-02  Hello\n",
       "2  train  2 2013-01-02  Hello"
      ]
     },
     "execution_count": 245,
     "metadata": {},
     "output_type": "execute_result"
    }
   ],
   "source": [
    "import pandas as pd\n",
    "import numpy as np\n",
    "dff=pd.DataFrame({'A':pd.Categorical(['test','train']),'B':np.array([1,2]),'C':pd.Timestamp('20130102'),'D':'Hello'},\n",
    "                 index=['1','2'])\n",
    "dff"
   ]
  },
  {
   "cell_type": "markdown",
   "metadata": {},
   "source": [
    "<h3>2.10. Logical AND and OR</h3>"
   ]
  },
  {
   "cell_type": "code",
   "execution_count": 246,
   "metadata": {},
   "outputs": [
    {
     "data": {
      "text/plain": [
       "0      8941\n",
       "1     56684\n",
       "2    349752\n",
       "3    628951\n",
       "4     92819\n",
       "5    280271\n",
       "6    345569\n",
       "7    724517\n",
       "8    176615\n",
       "9     56117\n",
       "dtype: int64"
      ]
     },
     "execution_count": 246,
     "metadata": {},
     "output_type": "execute_result"
    }
   ],
   "source": [
    "#Logical OR\n",
    "df=pd.read_csv('datasets//dataset.csv')\n",
    "(df['user_id'] | df['rating']).head(10)"
   ]
  },
  {
   "cell_type": "code",
   "execution_count": 247,
   "metadata": {},
   "outputs": [
    {
     "data": {
      "text/plain": [
       "0    0\n",
       "1    0\n",
       "2    0\n",
       "3    2\n",
       "4    0\n",
       "5    5\n",
       "6    0\n",
       "7    4\n",
       "8    0\n",
       "9    0\n",
       "dtype: int64"
      ]
     },
     "execution_count": 247,
     "metadata": {},
     "output_type": "execute_result"
    }
   ],
   "source": [
    "#Logical AND\n",
    "(df['user_id'] & df['rating']).head(10)"
   ]
  },
  {
   "cell_type": "code",
   "execution_count": 248,
   "metadata": {
    "scrolled": true
   },
   "outputs": [
    {
     "name": "stdout",
     "output_type": "stream",
     "text": [
      "Actual Contents are:\n",
      "       A  B          C      D\n",
      "1   test  1 2013-01-02  Hello\n",
      "2  train  2 2013-01-02  Hello\n",
      "\n",
      "Transposed contents are:\n",
      "                     1                    2\n",
      "A                 test                train\n",
      "B                    1                    2\n",
      "C  2013-01-02 00:00:00  2013-01-02 00:00:00\n",
      "D                Hello                Hello\n"
     ]
    }
   ],
   "source": [
    "print(\"Actual Contents are:\")\n",
    "print(dff)\n",
    "print(\"\\nTransposed contents are:\")\n",
    "print(dff.T)"
   ]
  },
  {
   "cell_type": "markdown",
   "metadata": {},
   "source": [
    "<h3>2.11. loc and iloc function:</h3>"
   ]
  },
  {
   "cell_type": "code",
   "execution_count": 249,
   "metadata": {},
   "outputs": [
    {
     "data": {
      "text/html": [
       "<div>\n",
       "<style scoped>\n",
       "    .dataframe tbody tr th:only-of-type {\n",
       "        vertical-align: middle;\n",
       "    }\n",
       "\n",
       "    .dataframe tbody tr th {\n",
       "        vertical-align: top;\n",
       "    }\n",
       "\n",
       "    .dataframe thead th {\n",
       "        text-align: right;\n",
       "    }\n",
       "</style>\n",
       "<table border=\"1\" class=\"dataframe\">\n",
       "  <thead>\n",
       "    <tr style=\"text-align: right;\">\n",
       "      <th></th>\n",
       "      <th>A</th>\n",
       "    </tr>\n",
       "  </thead>\n",
       "  <tbody>\n",
       "    <tr>\n",
       "      <th>1</th>\n",
       "      <td>test</td>\n",
       "    </tr>\n",
       "    <tr>\n",
       "      <th>2</th>\n",
       "      <td>train</td>\n",
       "    </tr>\n",
       "  </tbody>\n",
       "</table>\n",
       "</div>"
      ],
      "text/plain": [
       "       A\n",
       "1   test\n",
       "2  train"
      ]
     },
     "execution_count": 249,
     "metadata": {},
     "output_type": "execute_result"
    }
   ],
   "source": [
    "#iloc function:\n",
    "# Row and column selection i.e, row,col\n",
    "dff.iloc[0:2,0:1]"
   ]
  },
  {
   "cell_type": "code",
   "execution_count": 250,
   "metadata": {
    "scrolled": true
   },
   "outputs": [
    {
     "data": {
      "text/plain": [
       "A                  train\n",
       "B                      2\n",
       "C    2013-01-02 00:00:00\n",
       "D                  Hello\n",
       "Name: 2, dtype: object"
      ]
     },
     "execution_count": 250,
     "metadata": {},
     "output_type": "execute_result"
    }
   ],
   "source": [
    "# loc function\n",
    "# It will return the corresponding row.\n",
    "dff.loc['2']"
   ]
  },
  {
   "cell_type": "markdown",
   "metadata": {},
   "source": [
    "<h3>2.12. isin function:</h3>"
   ]
  },
  {
   "cell_type": "code",
   "execution_count": 251,
   "metadata": {},
   "outputs": [
    {
     "data": {
      "text/html": [
       "<div>\n",
       "<style scoped>\n",
       "    .dataframe tbody tr th:only-of-type {\n",
       "        vertical-align: middle;\n",
       "    }\n",
       "\n",
       "    .dataframe tbody tr th {\n",
       "        vertical-align: top;\n",
       "    }\n",
       "\n",
       "    .dataframe thead th {\n",
       "        text-align: right;\n",
       "    }\n",
       "</style>\n",
       "<table border=\"1\" class=\"dataframe\">\n",
       "  <thead>\n",
       "    <tr style=\"text-align: right;\">\n",
       "      <th></th>\n",
       "      <th>A</th>\n",
       "      <th>B</th>\n",
       "      <th>C</th>\n",
       "      <th>D</th>\n",
       "    </tr>\n",
       "  </thead>\n",
       "  <tbody>\n",
       "    <tr>\n",
       "      <th>1</th>\n",
       "      <td>test</td>\n",
       "      <td>1</td>\n",
       "      <td>2013-01-02</td>\n",
       "      <td>Hello</td>\n",
       "    </tr>\n",
       "    <tr>\n",
       "      <th>2</th>\n",
       "      <td>train</td>\n",
       "      <td>2</td>\n",
       "      <td>2013-01-02</td>\n",
       "      <td>Hello</td>\n",
       "    </tr>\n",
       "  </tbody>\n",
       "</table>\n",
       "</div>"
      ],
      "text/plain": [
       "       A  B          C      D\n",
       "1   test  1 2013-01-02  Hello\n",
       "2  train  2 2013-01-02  Hello"
      ]
     },
     "execution_count": 251,
     "metadata": {},
     "output_type": "execute_result"
    }
   ],
   "source": [
    "# it will filter all the results based on specific column and their value.\n",
    "dff[dff['D'].isin(['Hello'])]"
   ]
  },
  {
   "cell_type": "code",
   "execution_count": 252,
   "metadata": {
    "scrolled": false
   },
   "outputs": [
    {
     "data": {
      "text/html": [
       "<div>\n",
       "<style scoped>\n",
       "    .dataframe tbody tr th:only-of-type {\n",
       "        vertical-align: middle;\n",
       "    }\n",
       "\n",
       "    .dataframe tbody tr th {\n",
       "        vertical-align: top;\n",
       "    }\n",
       "\n",
       "    .dataframe thead th {\n",
       "        text-align: right;\n",
       "    }\n",
       "</style>\n",
       "<table border=\"1\" class=\"dataframe\">\n",
       "  <thead>\n",
       "    <tr style=\"text-align: right;\">\n",
       "      <th></th>\n",
       "      <th>A</th>\n",
       "      <th>B</th>\n",
       "      <th>C</th>\n",
       "      <th>D</th>\n",
       "    </tr>\n",
       "  </thead>\n",
       "  <tbody>\n",
       "  </tbody>\n",
       "</table>\n",
       "</div>"
      ],
      "text/plain": [
       "Empty DataFrame\n",
       "Columns: [A, B, C, D]\n",
       "Index: []"
      ]
     },
     "execution_count": 252,
     "metadata": {},
     "output_type": "execute_result"
    }
   ],
   "source": [
    "# in this case in D column no value exists 'test'. So it will return nothing.\n",
    "dff[dff['D'].isin(['test'])]"
   ]
  },
  {
   "cell_type": "markdown",
   "metadata": {},
   "source": [
    "<h3>2.13. Save CSV File</h3>"
   ]
  },
  {
   "cell_type": "code",
   "execution_count": 253,
   "metadata": {},
   "outputs": [],
   "source": [
    "# it will save your dataset in the file.\n",
    "dff.to_csv('datasets//file.csv')"
   ]
  },
  {
   "cell_type": "markdown",
   "metadata": {},
   "source": [
    "<h3>2.14. Plot Graphs of DataSet</h3>"
   ]
  },
  {
   "cell_type": "markdown",
   "metadata": {},
   "source": [
    "<h4>Bar Chart</h4>"
   ]
  },
  {
   "cell_type": "code",
   "execution_count": 254,
   "metadata": {
    "scrolled": true
   },
   "outputs": [
    {
     "data": {
      "text/plain": [
       "<matplotlib.axes._subplots.AxesSubplot at 0x2b955569c18>"
      ]
     },
     "execution_count": 254,
     "metadata": {},
     "output_type": "execute_result"
    },
    {
     "data": {
      "image/png": "[encoded data removed]",
      "text/plain": [
       "<Figure size 432x288 with 1 Axes>"
      ]
     },
     "metadata": {
      "needs_background": "light"
     },
     "output_type": "display_data"
    }
   ],
   "source": [
    "dff=pd.read_csv('datasets//dataset.csv')\n",
    "\n",
    "dff['rating'].value_counts().plot.bar() # it will plot graph of rating entries."
   ]
  },
  {
   "cell_type": "markdown",
   "metadata": {},
   "source": [
    "<h4>Line Charts</h4>"
   ]
  },
  {
   "cell_type": "code",
   "execution_count": 255,
   "metadata": {
    "scrolled": false
   },
   "outputs": [
    {
     "data": {
      "text/plain": [
       "<matplotlib.axes._subplots.AxesSubplot at 0x2b956683b00>"
      ]
     },
     "execution_count": 255,
     "metadata": {},
     "output_type": "execute_result"
    },
    {
     "data": {
      "image/png": "[encoded data removed]",
      "text/plain": [
       "<Figure size 432x288 with 1 Axes>"
      ]
     },
     "metadata": {
      "needs_background": "light"
     },
     "output_type": "display_data"
    }
   ],
   "source": [
    "dff['rating'].value_counts().sort_index().plot.line()"
   ]
  },
  {
   "cell_type": "markdown",
   "metadata": {},
   "source": [
    "<h4>Area Charts</h4>"
   ]
  },
  {
   "cell_type": "code",
   "execution_count": 256,
   "metadata": {},
   "outputs": [
    {
     "data": {
      "text/plain": [
       "<matplotlib.axes._subplots.AxesSubplot at 0x2b9566e1d30>"
      ]
     },
     "execution_count": 256,
     "metadata": {},
     "output_type": "execute_result"
    },
    {
     "data": {
      "image/png": "[encoded data removed]",
      "text/plain": [
       "<Figure size 432x288 with 1 Axes>"
      ]
     },
     "metadata": {
      "needs_background": "light"
     },
     "output_type": "display_data"
    }
   ],
   "source": [
    "dff['rating'].value_counts().sort_index().plot.area()"
   ]
  },
  {
   "cell_type": "markdown",
   "metadata": {},
   "source": [
    " <h4>Histogram Charts</h4>"
   ]
  },
  {
   "cell_type": "code",
   "execution_count": 257,
   "metadata": {
    "scrolled": false
   },
   "outputs": [
    {
     "data": {
      "text/plain": [
       "<matplotlib.axes._subplots.AxesSubplot at 0x2b956739470>"
      ]
     },
     "execution_count": 257,
     "metadata": {},
     "output_type": "execute_result"
    },
    {
     "data": {
      "image/png": "[encoded data removed]",
      "text/plain": [
       "<Figure size 432x288 with 1 Axes>"
      ]
     },
     "metadata": {
      "needs_background": "light"
     },
     "output_type": "display_data"
    }
   ],
   "source": [
    "dff['rating'].plot.hist()"
   ]
  },
  {
   "cell_type": "markdown",
   "metadata": {},
   "source": [
    "<h4>Pie Charts</h4>"
   ]
  },
  {
   "cell_type": "code",
   "execution_count": 258,
   "metadata": {},
   "outputs": [
    {
     "data": {
      "text/plain": [
       "<matplotlib.axes._subplots.AxesSubplot at 0x2b956739ba8>"
      ]
     },
     "execution_count": 258,
     "metadata": {},
     "output_type": "execute_result"
    },
    {
     "data": {
      "image/png": "[encoded data removed]",
      "text/plain": [
       "<Figure size 432x288 with 1 Axes>"
      ]
     },
     "metadata": {},
     "output_type": "display_data"
    }
   ],
   "source": [
    "import pandas as pd\n",
    "df=pd.read_csv('datasets//dataset.csv')\n",
    "df['rating'].value_counts().plot.pie()"
   ]
  },
  {
   "cell_type": "markdown",
   "metadata": {},
   "source": [
    "# 3.3. Matplotlib\n",
    "It is useful for visualizations and after training model we have to test our model and see graph behavior and predictions."
   ]
  },
  {
   "cell_type": "code",
   "execution_count": 259,
   "metadata": {},
   "outputs": [],
   "source": [
    "import matplotlib.pyplot as plt"
   ]
  },
  {
   "cell_type": "markdown",
   "metadata": {},
   "source": [
    "<h3>3.3.1. Simple Plot</h3>"
   ]
  },
  {
   "cell_type": "code",
   "execution_count": 260,
   "metadata": {},
   "outputs": [
    {
     "data": {
      "image/png": "[encoded data removed]",
      "text/plain": [
       "<Figure size 432x288 with 1 Axes>"
      ]
     },
     "metadata": {
      "needs_background": "light"
     },
     "output_type": "display_data"
    }
   ],
   "source": [
    "from matplotlib import pyplot as plt\n",
    "plt.plot([1,2,3],[4,5,7],'g',label=\"Line\",linewidth=5) # g means green color and label is for Legend\n",
    "plt.title('Title')\n",
    "plt.xlabel('x-axis')\n",
    "plt.ylabel('y-axis')\n",
    "plt.legend(loc=\"upper left\")\n",
    "plt.show()\n"
   ]
  },
  {
   "cell_type": "markdown",
   "metadata": {},
   "source": [
    "<h3>3.3.2. Bar Graph:</h3>"
   ]
  },
  {
   "cell_type": "code",
   "execution_count": 261,
   "metadata": {
    "scrolled": false
   },
   "outputs": [
    {
     "data": {
      "image/png": "[encoded data removed]",
      "text/plain": [
       "<Figure size 432x288 with 1 Axes>"
      ]
     },
     "metadata": {
      "needs_background": "light"
     },
     "output_type": "display_data"
    }
   ],
   "source": [
    "x=[1,3,5,7,9]\n",
    "y=[5,2,7,8,9]\n",
    "plt.bar(x,y,label=\"bar graph\",linewidth=2)\n",
    "plt.xlabel(\"x-axis\")\n",
    "plt.ylabel(\"y-axis\")\n",
    "plt.legend()\n",
    "plt.show()"
   ]
  },
  {
   "cell_type": "markdown",
   "metadata": {},
   "source": [
    "<h3>3.3.3. Histogram</h3>\n"
   ]
  },
  {
   "cell_type": "code",
   "execution_count": 262,
   "metadata": {},
   "outputs": [
    {
     "data": {
      "image/png": "[encoded data removed]",
      "text/plain": [
       "<Figure size 432x288 with 1 Axes>"
      ]
     },
     "metadata": {
      "needs_background": "light"
     },
     "output_type": "display_data"
    }
   ],
   "source": [
    "x = [21,22,23,4,5,6,77,8,9,10,31,32,33,34,35,36,37,18,49,50,100]\n",
    "mu = 100 # mean of distribution\n",
    "sigma = 15 # standard deviation of distribution\n",
    "x = mu + sigma * np.random.randn(10000)\n",
    "bint = 20\n",
    "plt.hist(x,bint,histtype='bar',rwidth=0.8)\n",
    "plt.show()"
   ]
  },
  {
   "cell_type": "markdown",
   "metadata": {},
   "source": [
    "<h3>3.3.4. Scatter Plot:</h3>"
   ]
  },
  {
   "cell_type": "code",
   "execution_count": 263,
   "metadata": {},
   "outputs": [
    {
     "data": {
      "image/png": "[encoded data removed]",
      "text/plain": [
       "<Figure size 432x288 with 1 Axes>"
      ]
     },
     "metadata": {
      "needs_background": "light"
     },
     "output_type": "display_data"
    }
   ],
   "source": [
    "x=[1,2,3,4,5]\n",
    "y=[2,2,4,4,5]\n",
    "plt.scatter(x,y,label=\"Scatter\",color='g')\n",
    "plt.xlabel('x-axis')\n",
    "plt.ylabel('y-axis')\n",
    "plt.legend()\n",
    "plt.show()"
   ]
  }
 ],
 "metadata": {
  "kernelspec": {
   "display_name": "Python 3",
   "language": "python",
   "name": "python3"
  },
  "language_info": {
   "codemirror_mode": {
    "name": "ipython",
    "version": 3
   },
   "file_extension": ".py",
   "mimetype": "text/x-python",
   "name": "python",
   "nbconvert_exporter": "python",
   "pygments_lexer": "ipython3",
   "version": "3.7.6"
  }
 },
 "nbformat": 4,
 "nbformat_minor": 2
}
